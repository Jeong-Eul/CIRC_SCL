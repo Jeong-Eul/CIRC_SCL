{
 "cells": [
  {
   "cell_type": "code",
   "execution_count": 59,
   "id": "f1886d0c",
   "metadata": {},
   "outputs": [],
   "source": [
    "import time\n",
    "import numpy as np\n",
    "import pandas as pd\n",
    "from tqdm import tqdm"
   ]
  },
  {
   "cell_type": "markdown",
   "id": "5b04eeea",
   "metadata": {},
   "source": [
    "------"
   ]
  },
  {
   "cell_type": "code",
   "execution_count": 60,
   "id": "a3b8460d",
   "metadata": {},
   "outputs": [],
   "source": [
    "#Dataset\n",
    "\n",
    "pd.set_option('display.max_columns',None)\n",
    "mimic = pd.read_csv('mimic-iv_circ12h(의료정보학회추계-1120).csv', compression='gzip')"
   ]
  },
  {
   "cell_type": "code",
   "execution_count": 61,
   "id": "6934c778",
   "metadata": {},
   "outputs": [
    {
     "data": {
      "text/plain": [
       "Index([], dtype='object')"
      ]
     },
     "execution_count": 61,
     "metadata": {},
     "output_type": "execute_result"
    }
   ],
   "source": [
    "dataset = mimic.copy()\n",
    "\n",
    "# Null 값 확인\n",
    "columns_with_null = dataset.columns[dataset.isnull().any()]\n",
    "columns_with_null"
   ]
  },
  {
   "cell_type": "code",
   "execution_count": 62,
   "id": "4e6bfbe9",
   "metadata": {},
   "outputs": [],
   "source": [
    "# 새롭게 labeling\n",
    "def early_event_prediction_label(df):\n",
    "    \n",
    "    data = df.copy()\n",
    "    \n",
    "    data['classes'] = 'undefined'\n",
    "\n",
    "    class1 = data[(data['circ_next_12h']==0) & (data['Annotation']=='no_circ')].index\n",
    "    data.loc[class1,'classes'] = 0\n",
    "    \n",
    "    class2 = data[(data['circ_next_12h']==1) & (data['Annotation']=='no_circ')].index\n",
    "    data.loc[class2,'classes'] = 1\n",
    "    \n",
    "    return data\n",
    "\n",
    "\n",
    "result_1 = early_event_prediction_label(dataset)"
   ]
  },
  {
   "cell_type": "code",
   "execution_count": 63,
   "id": "3244153c",
   "metadata": {},
   "outputs": [],
   "source": [
    "# def patient_window(targ, mask):\n",
    "    \n",
    "#     window_index = targ[mask].index\n",
    "#     targ_sample = targ[mask]\n",
    "    \n",
    "#     for j, idx in enumerate(window_index):\n",
    "#         current_time = targ.loc[mask, 'Time_since_ICU_admission'].loc[idx]\n",
    "#         endpoint_window = current_time + 24\n",
    "        \n",
    "#         if targ.loc[idx, 'Annotation'] == 'circ':\n",
    "        \n",
    "#             try:\n",
    "#                 window = targ_sample[(targ_sample['Time_since_ICU_admission'] >= current_time) & (targ_sample['Time_since_ICU_admission'] < endpoint_window)]\n",
    "#                 count_amb_no_circ = window['Annotation'].value_counts().get('ambiguous', 0) + window['Annotation'].value_counts().get('no_circ', 0)\n",
    "#                 count_amb_circ = window['Annotation'].value_counts().get('ambiguous', 0) + window['Annotation'].value_counts().get('circ', 0)\n",
    "#                 total_state = len(window)\n",
    "                \n",
    "#                 if total_state > 0:\n",
    "#                     recovery_ratio = count_amb_no_circ / total_state\n",
    "#                     no_recovery_ratio = count_amb_circ / total_state\n",
    "                \n",
    "#                     if (recovery_ratio >= 0.7) & (window['Annotation'].value_counts().get('no_circ', 0) > 0):\n",
    "#                         targ.loc[idx, 'classes'] = 2\n",
    "                        \n",
    "#                     elif (no_recovery_ratio >= 0.7) & (window['Annotation'].value_counts().get('circ', 0) > 0):\n",
    "#                         targ.loc[idx, 'classes'] = 3\n",
    "                        \n",
    "#                     else:\n",
    "#                         targ.loc[idx, 'classes'] = 'undefined'\n",
    "#                 else:\n",
    "#                     targ.loc[idx, 'classes'] = 'undefined'\n",
    "\n",
    "#             except: # stay 관측치가 1개인 경우\n",
    "#                 targ.loc[idx, 'classes'] = 'undefined'   \n",
    "\n",
    "# def circfailure_labeler(df): \n",
    "#     targ = df.copy()\n",
    "    \n",
    "#     unique_stay_ids = targ['stay_id'].unique()\n",
    "#     for i in tqdm(range(len(unique_stay_ids))):\n",
    "#         stay_id = unique_stay_ids[i]\n",
    "#         mask = targ['stay_id'] == stay_id \n",
    "#         patient_window(targ, mask)\n",
    "\n",
    "#     return targ     \n",
    "\n",
    "\n",
    "def optimized_recovered_labeler(df):\n",
    "    # DataFrame 복사본 생성\n",
    "    targ = df.copy()\n",
    "\n",
    "    # 각 stay_id에 대해 반복\n",
    "    for stay_id in tqdm(targ['stay_id'].unique()):\n",
    "        stay_df = targ[targ['stay_id'] == stay_id].sort_values(by='Time_since_ICU_admission')\n",
    "        for idx, row in stay_df.iterrows():\n",
    "            if row['Annotation'] == 'circ':\n",
    "                current_time = row['Time_since_ICU_admission']\n",
    "                endpoint_window = current_time + 12\n",
    "\n",
    "                # 24시간 창 내 데이터 필터링\n",
    "                window = stay_df[(stay_df['Time_since_ICU_admission'] >= current_time) & (stay_df['Time_since_ICU_admission'] < endpoint_window)]\n",
    "                if len(window) > 0:\n",
    "                    # 상태별 발생 빈도 계산\n",
    "                    counts = window['Annotation'].value_counts()\n",
    "                    count_amb_no_circ = counts.get('ambiguous', 0) + counts.get('no_circ', 0)\n",
    "                    count_amb_circ = counts.get('ambiguous', 0) + counts.get('circ', 0)\n",
    "                    total_state = len(window)\n",
    "\n",
    "                    recovery_ratio = count_amb_no_circ / total_state\n",
    "                    no_recovery_ratio = count_amb_circ / total_state\n",
    "\n",
    "                    # 조건에 따른 'classes' 설정\n",
    "                    if recovery_ratio >= 0.7 and counts.get('no_circ', 0) > 0:\n",
    "                        targ.loc[idx, 'classes'] = 2\n",
    "                    elif no_recovery_ratio >= 0.7 and counts.get('circ', 0) > 0:\n",
    "                        targ.loc[idx, 'classes'] = 3\n",
    "\n",
    "    return targ"
   ]
  },
  {
   "cell_type": "code",
   "execution_count": 64,
   "id": "fae33402",
   "metadata": {},
   "outputs": [
    {
     "name": "stderr",
     "output_type": "stream",
     "text": [
      "100%|██████████| 13919/13919 [44:41<00:00,  5.19it/s]  \n"
     ]
    }
   ],
   "source": [
    "result_2 = optimized_recovered_labeler(result_1)"
   ]
  },
  {
   "cell_type": "code",
   "execution_count": 65,
   "id": "1ad0ed0f",
   "metadata": {},
   "outputs": [
    {
     "data": {
      "text/plain": [
       "0            1391814\n",
       "undefined    1290424\n",
       "3             362211\n",
       "1              13180\n",
       "2               6267\n",
       "Name: classes, dtype: int64"
      ]
     },
     "execution_count": 65,
     "metadata": {},
     "output_type": "execute_result"
    }
   ],
   "source": [
    "result_2.classes.value_counts()"
   ]
  },
  {
   "cell_type": "code",
   "execution_count": 70,
   "id": "ab885c65",
   "metadata": {},
   "outputs": [],
   "source": [
    "result_3 = result_2[~(result_2['Annotation']=='ambiguous') & ~(result_2['classes']=='undefined')]"
   ]
  },
  {
   "cell_type": "code",
   "execution_count": 71,
   "id": "a4f8d8f3",
   "metadata": {},
   "outputs": [
    {
     "data": {
      "text/plain": [
       "0    1391814\n",
       "1      13180\n",
       "2       6267\n",
       "3     362211\n",
       "Name: classes, dtype: int64"
      ]
     },
     "execution_count": 71,
     "metadata": {},
     "output_type": "execute_result"
    }
   ],
   "source": [
    "result_3.classes.value_counts().sort_index()"
   ]
  },
  {
   "cell_type": "code",
   "execution_count": 72,
   "id": "276038c5",
   "metadata": {},
   "outputs": [
    {
     "name": "stdout",
     "output_type": "stream",
     "text": [
      "전체 샘플의 개수\n",
      "1773472\n",
      "\n",
      "샘플의 클래스 개수\n",
      "0    1391814\n",
      "1      13180\n",
      "2       6267\n",
      "3     362211\n",
      "Name: classes, dtype: int64\n",
      "\n",
      "총 Stay 수\n",
      "11977\n",
      "\n",
      "총 환자 수\n",
      "10736\n"
     ]
    }
   ],
   "source": [
    "print('전체 샘플의 개수')\n",
    "print(len(result_3))\n",
    "\n",
    "print()\n",
    "\n",
    "print('샘플의 클래스 개수')\n",
    "print(result_3.classes.value_counts().sort_index())\n",
    "\n",
    "print()\n",
    "\n",
    "print('총 Stay 수')\n",
    "print(len(result_3.stay_id.unique()))\n",
    "\n",
    "print()\n",
    "\n",
    "print('총 환자 수')\n",
    "print(len(result_3.subject_id.unique()))\n"
   ]
  },
  {
   "cell_type": "code",
   "execution_count": 73,
   "id": "a6edcdb6",
   "metadata": {},
   "outputs": [],
   "source": [
    "result_3.to_csv('mimic_df.csv', compression='gzip')"
   ]
  },
  {
   "cell_type": "code",
   "execution_count": 2,
   "metadata": {},
   "outputs": [],
   "source": [
    "import pandas as pd\n",
    "result_3 = pd.read_csv('mimic_df.csv', compression='gzip')"
   ]
  }
 ],
 "metadata": {
  "kernelspec": {
   "display_name": "DL",
   "language": "python",
   "name": "python3"
  },
  "language_info": {
   "codemirror_mode": {
    "name": "ipython",
    "version": 3
   },
   "file_extension": ".py",
   "mimetype": "text/x-python",
   "name": "python",
   "nbconvert_exporter": "python",
   "pygments_lexer": "ipython3",
   "version": "3.8.16"
  }
 },
 "nbformat": 4,
 "nbformat_minor": 5
}
