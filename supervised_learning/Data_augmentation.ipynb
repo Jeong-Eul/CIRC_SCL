{
 "cells": [
  {
   "cell_type": "code",
   "execution_count": 1,
   "metadata": {},
   "outputs": [],
   "source": [
    "import pandas as pd\n",
    "import numpy as np\n",
    "import time\n",
    "from imblearn.over_sampling import SMOTE"
   ]
  },
  {
   "cell_type": "code",
   "execution_count": 2,
   "metadata": {},
   "outputs": [],
   "source": [
    "def check_class_ratio(dataset):\n",
    "    class_ratio = round(np.mean(dataset.classes), 2)\n",
    "    return class_ratio\n",
    "\n",
    "def random_split_stay(df, train_ratio, Threshold, n_trial):\n",
    "    data = df.copy()\n",
    "    \n",
    "    search_time = time.time()\n",
    "    \n",
    "    for T in range(n_trial):\n",
    "        array = data.subject_id.unique()\n",
    "        \n",
    "        # seed = np.random.randint(0, 10000, 1)\n",
    "        seed = 9756\n",
    "        np.random.seed(seed) \n",
    "        np.random.shuffle(array)\n",
    "\n",
    "\n",
    "        split_point = int(train_ratio * len(array))\n",
    "        stay_for_train, stay_for_test = np.split(array, [split_point])\n",
    "\n",
    "        \n",
    "\n",
    "        condition_train = data.subject_id.isin(stay_for_train)\n",
    "        holdout_train = data[condition_train]\n",
    "\n",
    "        condition_test = data.subject_id.isin(stay_for_test)\n",
    "        holdout_test = data[condition_test]\n",
    "        \n",
    "        # holdout_test = holdout_test.sort_values(by=['subject_id',  'stay_id', 'Time_since_ICU_admission']) \n",
    "        # holdout_train = holdout_train.sort_values(by=['subject_id',  'stay_id', 'Time_since_ICU_admission']) \n",
    "\n",
    "        train_class_ratio  = check_class_ratio(holdout_train)\n",
    "        test_class_ratio  = check_class_ratio(holdout_test)\n",
    "                \n",
    "            \n",
    "        if (train_class_ratio - test_class_ratio) >= Threshold:\n",
    "            \n",
    "            break  # 클래스 비율이 모두 threshold 이상일 경우 반복문 종료\n",
    "        \n",
    "        if T % 100 == 0:\n",
    "            print('Trial: ', T)\n",
    "            \n",
    "        if T % 10000 == 0:\n",
    "        \n",
    "            Threshold = Threshold + 0.05\n",
    "            print('Threshold 조정 + 0.05, 현재 한계값: {}'.format(Threshold))\n",
    "        \n",
    "        if T == 9999:\n",
    "            print('최대 Trial 달성, 분할 불가')\n",
    "        \n",
    "    train = holdout_train.copy()\n",
    "    test = holdout_test.copy()\n",
    "    search_time_end = time.time()\n",
    "    \n",
    "    trn_class1 = train.classes.value_counts()[0]\n",
    "    trn_class2 = train.classes.value_counts()[1]\n",
    "    \n",
    "    tes_class1 = test.classes.value_counts()[0]\n",
    "    tes_class2 = test.classes.value_counts()[1]\n",
    "\n",
    "    \n",
    "    \n",
    "    print('train set : test set = {} : {}'.format(train_ratio, 1-train_ratio))\n",
    "    print('Train set class: ', train.classes.value_counts().sort_index())\n",
    "    print('Test set class: ', test.classes.value_counts().sort_index())\n",
    "    print('-'*20)\n",
    "    print('Train class ratio: {}:{}'.format((trn_class1)/(trn_class1+trn_class2), (trn_class2)/(trn_class1+trn_class2)))\n",
    "    print('Test class ratio: {}:{}'.format((tes_class1)/(tes_class1+tes_class2), (tes_class2)/(tes_class1+tes_class2)))\n",
    "    print('-'*20)\n",
    "    print('Number of trainset patient:', len(train.subject_id.unique()))\n",
    "    print('Number of testset patient:', len(test.subject_id.unique()))\n",
    "    print('Number of trainset stay:', len(train.stay_id.unique()))\n",
    "    print('Number of testset stay:', len(test.stay_id.unique()))\n",
    "    print('-'*20)\n",
    "    print('Split seed: ',seed)\n",
    "    print('train ratio:', train_ratio)\n",
    "    print('Threshold:', Threshold)\n",
    "    print('-'*20)\n",
    "    print('총 소요 시간(초):{}'.format(search_time_end - search_time))\n",
    "    print('시도한 trial 수: ', T)\n",
    "    \n",
    "    return train, test, stay_for_train, stay_for_test"
   ]
  },
  {
   "cell_type": "code",
   "execution_count": 3,
   "metadata": {},
   "outputs": [],
   "source": [
    "dataset = pd.read_csv('/Users/DAHS/MIMIC-IV-Data-Pipeline/MIMIC_pipeline/mimic_df.csv', index_col = 0, compression='gzip')"
   ]
  },
  {
   "cell_type": "code",
   "execution_count": 4,
   "metadata": {},
   "outputs": [
    {
     "name": "stderr",
     "output_type": "stream",
     "text": [
      "C:\\Users\\DAHS\\AppData\\Local\\Temp\\ipykernel_25160\\3646303665.py:5: SettingWithCopyWarning: \n",
      "A value is trying to be set on a copy of a slice from a DataFrame\n",
      "\n",
      "See the caveats in the documentation: https://pandas.pydata.org/pandas-docs/stable/user_guide/indexing.html#returning-a-view-versus-a-copy\n",
      "  dataset['pao2/fio2'].loc[idx]=0\n",
      "C:\\Users\\DAHS\\AppData\\Local\\Temp\\ipykernel_25160\\3646303665.py:6: SettingWithCopyWarning: \n",
      "A value is trying to be set on a copy of a slice from a DataFrame\n",
      "\n",
      "See the caveats in the documentation: https://pandas.pydata.org/pandas-docs/stable/user_guide/indexing.html#returning-a-view-versus-a-copy\n",
      "  dataset['pao2/fio2_fillna'].loc[idx]=1\n"
     ]
    }
   ],
   "source": [
    "dataset.replace([np.inf, -np.inf], np.nan, inplace=True)\n",
    "\n",
    "dataset['pao2/fio2_fillna']=0\n",
    "idx = dataset[dataset['pao2/fio2'].isnull()].index\n",
    "dataset['pao2/fio2'].loc[idx]=0\n",
    "dataset['pao2/fio2_fillna'].loc[idx]=1"
   ]
  },
  {
   "cell_type": "code",
   "execution_count": 21,
   "metadata": {},
   "outputs": [
    {
     "data": {
      "text/plain": [
       "1325997"
      ]
     },
     "execution_count": 21,
     "metadata": {},
     "output_type": "execute_result"
    }
   ],
   "source": [
    "len(dataset)"
   ]
  },
  {
   "cell_type": "code",
   "execution_count": 5,
   "metadata": {},
   "outputs": [
    {
     "name": "stdout",
     "output_type": "stream",
     "text": [
      "Trial:  0\n",
      "Threshold 조정 + 0.05, 현재 한계값: 0.1\n",
      "train set : test set = 0.7 : 0.30000000000000004\n",
      "Train set class:  0    753345\n",
      "1     16786\n",
      "Name: classes, dtype: int64\n",
      "Test set class:  0    324233\n",
      "1      6822\n",
      "Name: classes, dtype: int64\n",
      "--------------------\n",
      "Train class ratio: 0.9782037082002932:0.021796291799706803\n",
      "Test class ratio: 0.9793931521952546:0.020606847804745435\n",
      "--------------------\n",
      "Number of trainset patient: 5525\n",
      "Number of testset patient: 2368\n",
      "Number of trainset stay: 6065\n",
      "Number of testset stay: 2621\n",
      "--------------------\n",
      "Split seed:  9756\n",
      "train ratio: 0.7\n",
      "Threshold: 0.1\n",
      "--------------------\n",
      "총 소요 시간(초):0.5920193195343018\n",
      "시도한 trial 수:  0\n"
     ]
    }
   ],
   "source": [
    "# dataset = pd.read_csv('./Data/final/mimic-v_circ12h.csv', index_col = 0)\n",
    "early_prediction = dataset[(dataset['classes']==0)|(dataset['classes']==1)]\n",
    "mimic_train_ori, mimic_valid_ori, trn_patient, val_patient = random_split_stay(early_prediction, 0.7, Threshold=0.05, n_trial=1) \n",
    "mimic_train_ori = mimic_train_ori.reset_index(drop=True)\n",
    "mimic_valid_ori = mimic_valid_ori.reset_index(drop=True)"
   ]
  },
  {
   "cell_type": "code",
   "execution_count": 7,
   "metadata": {},
   "outputs": [
    {
     "data": {
      "text/plain": [
       "818286"
      ]
     },
     "execution_count": 7,
     "metadata": {},
     "output_type": "execute_result"
    }
   ],
   "source": [
    "len(dataset)"
   ]
  },
  {
   "cell_type": "code",
   "execution_count": 8,
   "metadata": {},
   "outputs": [
    {
     "name": "stdout",
     "output_type": "stream",
     "text": [
      "Trial:  0\n",
      "Threshold 조정 + 0.05, 현재 한계값: 0.1\n",
      "train set : test set = 0.7 : 0.30000000000000004\n",
      "Train set class:  0    393779\n",
      "1     16667\n",
      "Name: classes, dtype: int64\n",
      "Test set class:  0    175301\n",
      "1      6946\n",
      "Name: classes, dtype: int64\n",
      "--------------------\n",
      "Train class ratio: 0.9593929530315802:0.04060704696841972\n",
      "Test class ratio: 0.9618868897704763:0.03811311022952367\n",
      "--------------------\n",
      "Number of trainset patient: 3525\n",
      "Number of testset patient: 1512\n",
      "Number of trainset stay: 3749\n",
      "Number of testset stay: 1617\n",
      "--------------------\n",
      "Split seed:  49\n",
      "train ratio: 0.7\n",
      "Threshold: 0.1\n",
      "--------------------\n",
      "총 소요 시간(초):0.6470751762390137\n",
      "시도한 trial 수:  0\n"
     ]
    }
   ],
   "source": [
    "embset = pd.read_csv('/Users/DAHS/MIMIC-IV-Data-Pipeline/MIMIC_pipeline/supervised_contrastive_learning/embedding_data.csv', index_col = 0)\n",
    "embset = embset.rename(columns ={'184':'classes'})\n",
    "\n",
    "eep_emb = embset[(embset['classes']==0)|(embset['classes']==1)]\n",
    "\n",
    "mimic_train_emb, mimic_valid_emb, trn_patient, val_patient = random_split_stay(eep_emb, 0.7, Threshold=0.05, n_trial=1) \n",
    "mimic_train_emb = mimic_train_emb.reset_index(drop=True)\n",
    "mimic_valid_emb = mimic_valid_emb.reset_index(drop=True)\n",
    "\n",
    "for_feature = mimic_train_ori.drop(['subject_id', 'stay_id', 'hadm_id','Annotation','circ_next_12h', 'classes'], axis = 1)\n",
    "for_feature_v = mimic_valid_ori.drop(['subject_id', 'stay_id', 'hadm_id','Annotation','circ_next_12h', 'classes'], axis = 1)\n",
    "\n",
    "mimic_train_feature = pd.concat([for_feature, mimic_train_emb], axis = 1)\n",
    "mimic_valid_feature = pd.concat([for_feature_v, mimic_valid_emb], axis = 1)"
   ]
  },
  {
   "cell_type": "code",
   "execution_count": 6,
   "metadata": {},
   "outputs": [
    {
     "name": "stdout",
     "output_type": "stream",
     "text": [
      "SMOTE 적용 전 학습용 피처/레이블 데이터 세트 :  (770131, 172) (770131, 1)\n",
      "SMOTE 적용 후 학습용 피처/레이블 데이터 세트 : (1506690, 172) (1506690, 1)\n",
      "SMOTE 적용 후 값의 분포 :\n",
      " classes\n",
      "0          753345\n",
      "1          753345\n",
      "dtype: int64\n"
     ]
    }
   ],
   "source": [
    "smote = SMOTE(random_state=42)\n",
    "\n",
    "X_train_original = mimic_train_ori.drop(['subject_id', 'stay_id', 'hadm_id','Annotation','circ_next_12h', 'classes'], axis = 1)\n",
    "y_train_original = mimic_train_ori[['classes']].copy()\n",
    "\n",
    "X_train_over, y_train_over = smote.fit_resample(X_train_original, y_train_original)\n",
    "print(\"SMOTE 적용 전 학습용 피처/레이블 데이터 세트 : \", X_train_original.shape, y_train_original.shape)\n",
    "print('SMOTE 적용 후 학습용 피처/레이블 데이터 세트 :', X_train_over.shape, y_train_over.shape)\n",
    "print('SMOTE 적용 후 값의 분포 :\\n', y_train_over.value_counts() )"
   ]
  },
  {
   "cell_type": "code",
   "execution_count": null,
   "metadata": {},
   "outputs": [],
   "source": [
    "# 데이터 프레임 저장\n",
    "# emb set에 대해서도 smote 수행 및 csv 저장 하기\n",
    "# UMAP 찍기(돌려놧엇음)"
   ]
  },
  {
   "cell_type": "code",
   "execution_count": 7,
   "metadata": {},
   "outputs": [],
   "source": [
    "augmented_train_df = pd.concat([X_train_over.drop('Unnamed: 0', axis=1), y_train_over], axis = 1)\n",
    "augmented_train_df.to_csv('augmented_train_df(input_space).csv', compression='gzip')"
   ]
  },
  {
   "cell_type": "code",
   "execution_count": 13,
   "metadata": {},
   "outputs": [
    {
     "name": "stdout",
     "output_type": "stream",
     "text": [
      "SMOTE 적용 전 학습용 피처/레이블 데이터 세트 :  (410446, 407) (410446, 1)\n",
      "SMOTE 적용 후 학습용 피처/레이블 데이터 세트 : (787558, 407) (787558, 1)\n",
      "SMOTE 적용 후 값의 분포 :\n",
      " Unnamed: 0  Time_since_ICU_admission  Epinephrine  Nitroglycerin  Dopamine  Vasopressin  Dextrose_5%  HeparinSodium  Norepinephrine  Potassium_Chloride  Phenylephrine  Dobutamine  Phenylephrine (50/250)  Cisatracurium  Esmolol  Milrinone  Diltiazem  Labetalol  metoprolol  Vecuronium  Nitroprusside  Tirofiban  Rocuronium  Phenylephrine (200/250)  Nesiritide  Digoxin  Aminophylline  Epinephrine_rate  Nitroglycerin_rate  Dopamine_rate  Vasopressin_rate  Dextrose_5%_rate  HeparinSodium_rate  Norepinephrine_rate  Phenylephrine_rate  Dobutamine_rate  Phenylephrine (50/250)_rate  Cisatracurium_rate  Esmolol_rate  Milrinone_rate  Diltiazem_rate  Labetalol_rate  Vecuronium_rate  Nitroprusside_rate  Tirofiban_rate  Rocuronium_rate  Phenylephrine (200/250)_rate  Invasive_Ventilation  blood_cultured  CXR  None_Invasive_Ventilation  EKG  MRI  Urine_Output_out  verbal_reponse  Eye_Opening  PaO2   pCO2  Lactate  mortor_response  NIBPs  HR     temperature_F  NIBPd  Peak_insp_P  FiO2  INR  EtCO2  ABPd  ABPs   CVP   Troponin-T  weight  PAPd  PAPs  height  CRP  SvO2  CVOS  PCWP  sodium  Age  gender  ethnicity  insurance  urin_amount  antibiotic  Respiratory_rate  K+_1  K+_2  Cardiac_output  Ca_Non_ionized  Creatinine  bun   hematocrit_1  hematocrit_2  Hemoglobin  Platelet_Count  wbc   PH    ALT_mean  alkaline_phosphate  AST_mean  Total_bilirubin  Glucose  sPO2  Temperature_C  vasoactive/inotropic  weight_fillna  height_fillna  MAP        creatinine(mg/dL)  GCS_score  suspected_infection  pao2/fio2   Sofa_Respiration  Sofa_Coagulation  Sofa_Liver  Sofa_Cardiovascular  Sofa_GCS  Sofa_Urine  SoFa_score  sepsis  septic_shock  IABP  Impella  ECMO  NIBPs_60  NIBPd_60  HR_60  Respiratory_rate_60  sPO2_60  temperature_F_60  Temperature_C_60  Peak_insp_P_60  ABPs_60  ABPd_60  CVP_60  PAPs_60  PAPd_60  PCWP_60  Platelet_Count_60  PaO2_60  Lactate_60  Norepinephrine_60  Dobutamine_60  Dopamine_60  Epinephrine_60  Milrinone_60  Phenylephrine_60  Phenylephrine (200/250)_60  Phenylephrine (50/250)_60  Vasopressin_60  MAP_60      Cardiac_output_60  NIBPs_180  NIBPd_180  HR_180  Respiratory_rate_180  sPO2_180  temperature_F_180  Temperature_C_180  Peak_insp_P_180  ABPs_180  ABPd_180  CVP_180  PAPs_180  PAPd_180  PCWP_180  Platelet_Count_180  PaO2_180  Lactate_180  Norepinephrine_180  Dobutamine_180  Dopamine_180  Epinephrine_180  Milrinone_180  Phenylephrine_180  Phenylephrine (200/250)_180  Phenylephrine (50/250)_180  Vasopressin_180  MAP_180     Cardiac_output_180  NIBPs_300  NIBPd_300  HR_300  Respiratory_rate_300  sPO2_300  temperature_F_300  Temperature_C_300  Peak_insp_P_300  ABPs_300  ABPd_300  CVP_300  PAPs_300  PAPd_300  PCWP_300  Platelet_Count_300  PaO2_300  Lactate_300  Norepinephrine_300  Dobutamine_300  Dopamine_300  Epinephrine_300  Milrinone_300  Phenylephrine_300  Phenylephrine (200/250)_300  Phenylephrine (50/250)_300  Vasopressin_300  MAP_300     Cardiac_output_300  vasoactive_use_cum_amount  Cumulative_Norepinephrine  Cumulative_Dobutamine  Cumulative_Dopamine  Cumulative_Epinephrine  Cumulative_Milrinone  Cumulative_Phenylephrine  Cumulative_Phenylephrine (200/250)  Cumulative_Phenylephrine (50/250)  Cumulative_Vasopressin  Cumulative_Digoxin  pao2/fio2_fillna  subject_id  stay_id   hadm_id   3          4          5          6          7          8          9          10         11         12         13         14         15         16         17         18         19         20         21         22         23         24         25         26         27         28         29         30         31         32         33         34         35         36         37         38         39         40         41         42         43         44         45         46         47         48         49         50         51         52         53         54         55         56         57         58         59         60         61         62         63         64         65         66         67         68         69         70         71         72         73         74         75         76         77         78         79         80         81         82         83         84         85         86         87         88         89         90         91         92         93         94         95         96         97         98         99         100        101        102        103        104        105        106        107        108        109        110        111        112        113        114        115        116        117        118        119        120        121        122        123        124        125        126        127        128        129        130        131        132        133        134        135        136        137        138        139        140        141        142        143        144        145        146        147        148        149        150        151        152        153        154        155        156        157        158        159        160        161        162        163        164        165        166        167        168        169        170        171        172        173        174        175        176        177        178        179        180        181        182        183      \n",
      "376         64                        0.0          0.0            0.0       0.0          0.0          0.0            0.0             0.000000            0.0            0.0         0.0                     0.0            0.0      0.0        0.0        0.0        0.0         0.0         0.0            0.0        0.0         0.0                      0.0         0.0      0.0            0.0               0.0                 0.0            0.0               0.0               0.0                 0.0                  0.0                 0.0              0.0                          0.0                 0.0           0.0             0.0             0.0             0.0              0.0                 0.0             0.0              0.0                           0.0                   1.0             0    0.0                        0    0    0.0               1.0             3.0          163.0  41.0  1.9      6.0              101.0  70.0   96.6           45.0   14.0         40.0  1.3  0.0    53.0  127.0  11.0  0.45        78.4    0.0   0.0   0.0     0.0  0.0   0.0   0.0   135.0   83   1       28         1          45.0         0           11.5              3.90  3.90  0.0             7.8             2.133333    64.0  36.30         36.30         13.4        178.0           10.7  7.31  15.0      34.0                40.0      0.3              152.5    98.0  37.2           0                     0              1              77.666667  0.024107           10.0       1.0                  407.500000  0                 0                 0           0                    2         2           4           1       0             0.0   0.0      0.0    0.0       0.0       0.0    0.5                  0.0      0.0              0.0               0.0              26.0     11.0    -3.0    0.0      0.0      0.0      0.0                0.0      0.0         -0.144103          0.0            0.0          0.0             0.0           0.0               0.0                         0.0                        0.0              16.000000  0.0                 0.0        0.0       -6.0    -1.5                   0.0      -1.0               0.0                0.0               24.0      8.0      -4.0     0.0       0.0       0.0       0.0                 -5.0      0.0          -0.492832           0.0             0.0           0.0              0.0            0.0                0.0                          0.0                         0.0               13.333333  0.0                  0.0        0.0        0.0    -0.5                   0.0      -1.5                0.0               -3.0              24.0      2.0      -6.0     0.0       0.0       0.0       0.0                 -5.0      0.0          -0.43224            0.0             0.0           0.0              0.0            0.0                0.0                          0.0                         0.0               9.333333   0.0                 62                         89.150343                  0.0                    0.0                  0.00000                 0.0                   294.95737                 0.0                                 0.000000                           82.319998               0.0                 0                 14569364    30005707  20870580  -0.000987  -0.005838  -0.005911  -0.000974  -0.000961  -0.005665  -0.006013  -0.005789  -0.006089  -0.000974  -0.000992  -0.005977  -0.005625  -0.000966  -0.006059  -0.005946  -0.005996  -0.005839  -0.001004  -0.006057  -0.005840  -0.005992  -0.001003  -0.006068  -0.005497  -0.005914  -0.005966  -0.005663  -0.005904  -0.000984  -0.005913  -0.006045  -0.005908  -0.006068  -0.005802  -0.005762  -0.005917  -0.001002  -0.005861  -0.000998  -0.001001  -0.005950  -0.005783  -0.006066  -0.006081  -0.005862  -0.006020  -0.005824  -0.006017  -0.005991  -0.005996  -0.000997  -0.000997  -0.001008  -0.005993  -0.005997  -0.001009  -0.005912  -0.005822  -0.005965  -0.005857  -0.006040  -0.005480  -0.005795  -0.004957  -0.005926  -0.006115  -0.005836  -0.005989  -0.004904  -0.005870  -0.005985  -0.006042  -0.001018  -0.000978  -0.000998  -0.006025  -0.005892  -0.006019  -0.000998  -0.005890  -0.006062  -0.005963  -0.005887  -0.005946  -0.005905  -0.005860  -0.005789  -0.005994  -0.006040  -0.005983  -0.000996  -0.004964  -0.005986  -0.000960  -0.000989  -0.006111  -0.005972  -0.005855  -0.006022  -0.005390  -0.000975  -0.005974  -0.005968  -0.005902  -0.005844  -0.005967  -0.000984  -0.000982  -0.005936  -0.006026  -0.005961  -0.005890  -0.000978  -0.005960  -0.000993  -0.000985  -0.005800  -0.000993  -0.000990  -0.005993  -0.000993  -0.005934  -0.006137  -0.000980  -0.005836  -0.000983  -0.006018  -0.001022  -0.005942  -0.001002  -0.005964  -0.005898  -0.005998  -0.005890  -0.000981  -0.005871  -0.000985  -0.000965  -0.005310  -0.006068  -0.005790  -0.005671  -0.000997  -0.006008  -0.005700  -0.000972  -0.006020  -0.000981  -0.005997  -0.005925  -0.006005  -0.006019  -0.005901  -0.006011  -0.005970  -0.005824  -0.000989  -0.006039  -0.000991  -0.005894  -0.005972  -0.006047  -0.006022  -0.000996  -0.005902  -0.005997  -0.000993  -0.006046  -0.005962  -0.005942  -0.006033  -0.000991  -0.000995  -0.005989  -0.005907  -0.005890  -0.005988  -0.005781  -0.000983  -0.000974    1\n",
      "911577      192                       0.0          0.0            0.0       0.0          0.0          0.0            0.0             20.000001           0.0            0.0         0.0                     0.0            0.0      0.0        0.0        0.0        0.0         0.0         0.0            0.0        0.0         0.0                      0.0         0.0      0.0            0.0               0.0                 0.0            0.0               0.0               0.0                 0.0                  0.0                 0.0              0.0                          0.0                 0.0           0.0             0.0             0.0             0.0              0.0                 0.0             0.0              0.0                           0.0                   1.0             0    0.0                        0    0    0.0               5.0             4.0          125.0  49.0  0.7      6.0              137.0  104.0  97.5           61.0   20.0         50.0  1.1  0.0    56.0  126.0  30.0  0.00        91.0    0.0   0.0   170.0   0.0  0.0   0.0   0.0   136.0   42   0       28         0          200.0        0           22.5              3.65  3.65  0.0             9.1             0.200000    4.0   28.65         28.65         9.9         461.0           18.8  7.45  0.0       0.0                 0.0       0.0              101.0    95.0  0.0            0                     0              0              79.333333  0.002260           15.0       1.0                  250.000000  2                 0                 0           0                    0         0           2           1       0             0.0   0.0      0.0    0.0       0.0       2.0   -2.5                 -2.0      0.0              0.0               0.0             -1.0     -1.0      0.0    0.0      0.0      0.0      0.0                0.0      0.0          0.000000          0.0            0.0          0.0             0.0           0.0               0.0                         0.0                        0.0             -1.000000   0.0                 0.0        0.0        4.0    -2.0                  -5.0      -0.5               0.0                0.0               3.0      -1.0       0.0     0.0       0.0       0.0       133.0                0.0      0.0           0.000000           0.0             0.0           0.0              0.0            0.0                0.0                          0.0                         0.0               0.333333   0.0                  0.0        0.0        12.0   -2.5                  -4.0      -1.4                0.0                0.0             -2.0       0.0       0.0     0.0       0.0       0.0       133.0                0.0      0.0           0.00000            0.0             0.0           0.0              0.0            0.0                0.0                          0.0                         0.0              -0.666667   0.0                 0                          0.000000                   0.0                    0.0                  0.00000                 0.0                   0.00000                   0.0                                 0.000000                           0.000000                0.0                 0                 14899356    36730858  24352842  -0.001035  -0.011559  -0.012072  -0.001024  -0.001010  -0.011649  -0.011923  -0.011447  -0.012005  -0.001020  -0.001040  -0.011925  -0.011598  -0.001013  -0.011951  -0.011733  -0.011903  -0.011472  -0.001045  -0.011966  -0.011803  -0.011857  -0.001050  -0.011973  -0.010819  -0.011668  -0.011851  -0.011606  -0.011692  -0.001026  -0.011729  -0.011938  -0.011644  -0.011992  -0.012004  -0.011842  -0.011797  -0.001051  -0.011549  -0.001044  -0.001050  -0.011819  -0.011439  -0.011958  -0.012121  -0.011661  -0.011938  -0.011877  -0.011986  -0.011815  -0.011816  -0.001046  -0.001041  -0.001056  -0.011857  -0.011877  -0.001053  -0.011754  -0.011583  -0.011754  -0.011884  -0.011967  -0.011329  -0.011801  -0.010393  -0.011748  -0.012166  -0.011606  -0.011839  -0.010157  -0.011792  -0.011855  -0.011943  -0.001068  -0.001028  -0.001043  -0.011951  -0.011966  -0.011894  -0.001044  -0.011803  -0.011941  -0.011772  -0.011622  -0.011737  -0.011708  -0.011637  -0.011553  -0.012069  -0.011928  -0.011795  -0.001045  -0.010245  -0.011833  -0.001009  -0.001042  -0.012185  -0.011886  -0.011606  -0.011883  -0.011054  -0.001021  -0.012043  -0.012151  -0.011717  -0.011864  -0.011915  -0.001031  -0.001029  -0.011775  -0.011978  -0.011765  -0.011649  -0.001025  -0.011952  -0.001042  -0.001033  -0.011801  -0.001042  -0.001039  -0.011882  -0.001042  -0.011735  -0.012222  -0.001025  -0.011916  -0.001029  -0.011942  -0.001067  -0.011725  -0.001050  -0.012136  -0.012034  -0.011863  -0.011816  -0.001030  -0.011908  -0.001032  -0.001016  -0.010567  -0.012043  -0.011712  -0.011709  -0.001044  -0.011873  -0.011470  -0.001025  -0.011914  -0.001031  -0.011946  -0.011745  -0.011896  -0.011900  -0.011713  -0.011910  -0.011826  -0.011519  -0.001036  -0.011916  -0.001039  -0.011567  -0.011883  -0.011908  -0.012010  -0.001044  -0.011792  -0.011865  -0.001041  -0.012227  -0.011926  -0.011730  -0.012014  -0.001040  -0.001046  -0.012111  -0.011705  -0.011672  -0.011808  -0.011960  -0.001032  -0.001022    1\n",
      "911781      99                        0.0          0.0            0.0       0.0          0.0          0.0            0.0             0.000000            0.0            0.0         0.0                     0.0            0.0      0.0        0.0        0.0        0.0         0.0         0.0            0.0        0.0         0.0                      0.0         0.0      0.0            0.0               0.0                 0.0            0.0               0.0               0.0                 0.0                  0.0                 0.0              0.0                          0.0                 0.0           0.0             0.0             0.0             0.0              0.0                 0.0             0.0              0.0                           0.0                   1.0             0    0.0                        0    0    0.0               5.0             4.0          73.0   44.0  1.6      6.0              93.0   74.0   98.3           61.0   16.0         50.0  1.7  37.0   54.0  121.0  15.0  0.00        95.0    17.0  55.0  178.0   0.0  74.0  0.0   0.0   146.0   68   1       28         2          300.0        0           15.0              3.70  3.70  0.0             8.7             0.666667    34.0  29.30         29.30         10.2        150.0           9.9   7.50  0.0       0.0                 0.0       0.0              127.0    94.0  0.0            0                     0              0              76.333333  0.007533           15.0       0.0                  146.000000  0                 0                 0           0                    0         0           0           0       0             0.0   0.0      0.0    4.0      -12.0     -11.0  -9.0                 -1.0      0.0              0.0               0.0              0.0      0.0      0.0    0.0      0.0      0.0      0.0                0.0      0.0          0.000000          0.0            0.0          0.0             0.0           0.0               0.0                         0.0                        0.0              0.000000   0.0                -3.0       -4.0       -4.0     0.0                   0.0      -1.0               0.0                0.0               26.0      7.0       0.0     0.0       0.0       0.0       0.0                  0.0      0.0           0.000000           0.0             0.0           0.0              0.0            0.0                0.0                          0.0                         0.0               13.333333  0.0                 -2.0       -3.0       -5.0     0.0                   0.0      -0.6                0.0                0.0              24.0      7.0       0.0     0.0       0.0       0.0       0.0                  0.0      0.0           0.00000            0.0             0.0           0.0              0.0            0.0                0.0                          0.0                         0.0               12.666667  0.0                 70                         0.000000                   0.0                    0.0                  12.98408                0.0                   0.00000                   0.0                                 1389.278391                        0.000000                0.0                 0                 15555498    36731640  21640857  -0.000998  -0.006584  -0.006691  -0.000985  -0.000973  -0.006420  -0.006759  -0.006506  -0.006848  -0.000986  -0.001002  -0.006725  -0.006374  -0.000977  -0.006810  -0.006689  -0.006759  -0.006538  -0.001014  -0.006819  -0.006608  -0.006739  -0.001014  -0.006824  -0.006139  -0.006650  -0.006718  -0.006394  -0.006642  -0.000994  -0.006649  -0.006803  -0.006647  -0.006821  -0.006590  -0.006543  -0.006668  -0.001014  -0.006589  -0.001008  -0.001013  -0.006698  -0.006510  -0.006823  -0.006846  -0.006613  -0.006771  -0.006592  -0.006782  -0.006738  -0.006741  -0.001008  -0.001007  -0.001019  -0.006736  -0.006745  -0.001020  -0.006665  -0.006573  -0.006710  -0.006608  -0.006800  -0.006196  -0.006550  -0.005685  -0.006676  -0.006885  -0.006580  -0.006735  -0.005589  -0.006647  -0.006734  -0.006796  -0.001030  -0.000990  -0.001009  -0.006778  -0.006658  -0.006764  -0.001009  -0.006627  -0.006818  -0.006699  -0.006619  -0.006677  -0.006650  -0.006580  -0.006541  -0.006764  -0.006796  -0.006718  -0.001008  -0.005644  -0.006732  -0.000972  -0.001001  -0.006877  -0.006719  -0.006581  -0.006767  -0.006140  -0.000986  -0.006753  -0.006772  -0.006659  -0.006608  -0.006730  -0.000996  -0.000993  -0.006677  -0.006777  -0.006698  -0.006617  -0.000989  -0.006733  -0.001005  -0.000996  -0.006571  -0.001004  -0.001002  -0.006738  -0.001005  -0.006673  -0.006917  -0.000991  -0.006615  -0.000994  -0.006783  -0.001033  -0.006681  -0.001013  -0.006724  -0.006673  -0.006738  -0.006655  -0.000993  -0.006654  -0.000996  -0.000977  -0.005941  -0.006837  -0.006548  -0.006462  -0.001008  -0.006755  -0.006452  -0.000984  -0.006768  -0.000992  -0.006747  -0.006679  -0.006763  -0.006769  -0.006654  -0.006764  -0.006714  -0.006549  -0.001000  -0.006780  -0.001002  -0.006609  -0.006739  -0.006789  -0.006786  -0.001007  -0.006652  -0.006752  -0.001004  -0.006839  -0.006713  -0.006681  -0.006806  -0.001002  -0.001007  -0.006762  -0.006649  -0.006634  -0.006734  -0.006570  -0.000995  -0.000985    1\n",
      "911782      100                       0.0          0.0            0.0       0.0          0.0          0.0            0.0             0.000000            0.0            0.0         0.0                     0.0            0.0      0.0        0.0        0.0        0.0         0.0         0.0            0.0        0.0         0.0                      0.0         0.0      0.0            0.0               0.0                 0.0            0.0               0.0               0.0                 0.0                  0.0                 0.0              0.0                          0.0                 0.0           0.0             0.0             0.0             0.0              0.0                 0.0             0.0              0.0                           0.0                   1.0             0    0.0                        0    0    0.0               5.0             4.0          73.0   44.0  1.6      6.0              104.0  83.0   98.3           63.0   16.0         50.0  1.7  37.0   54.0  121.0  15.0  0.00        95.0    17.0  55.0  178.0   0.0  74.0  0.0   0.0   146.0   68   1       28         2          525.0        0           23.0              3.70  3.70  0.0             8.7             0.666667    34.0  29.30         29.30         10.2        150.0           9.9   7.50  0.0       0.0                 0.0       0.0              127.0    94.0  0.0            0                     0              0              76.333333  0.007533           15.0       0.0                  146.000000  0                 0                 0           0                    0         0           0           0       0             0.0   0.0      0.0    9.0       0.0      -10.0   5.5                  0.0      0.0              0.0               0.0              0.0      0.0      0.0    0.0      0.0      0.0      0.0                0.0      0.0          0.000000          0.0            0.0          0.0             0.0           0.0               0.0                         0.0                        0.0              0.000000   0.0                -2.0       -4.0        3.0     7.5                   0.0      -1.0               0.0                0.0               0.0       0.0       0.0     0.0       0.0       0.0       0.0                  0.0      0.0           0.000000           0.0             0.0           0.0              0.0            0.0                0.0                          0.0                         0.0               0.000000   0.0                  10.0       2.0        13.0    7.5                   0.0      -0.6                0.0                0.0              30.0      9.0       0.0     0.0       0.0       0.0       0.0                  0.0      0.0           0.00000            0.0             0.0           0.0              0.0            0.0                0.0                          0.0                         0.0               16.000000  0.0                 70                         0.000000                   0.0                    0.0                  12.98408                0.0                   0.00000                   0.0                                 1389.278391                        0.000000                0.0                 0                 15555498    36731640  21640857  -0.000998  -0.006658  -0.006779  -0.000986  -0.000973  -0.006505  -0.006842  -0.006585  -0.006931  -0.000986  -0.001003  -0.006808  -0.006457  -0.000978  -0.006891  -0.006771  -0.006842  -0.006622  -0.001014  -0.006899  -0.006688  -0.006825  -0.001014  -0.006907  -0.006225  -0.006729  -0.006800  -0.006484  -0.006726  -0.000995  -0.006733  -0.006883  -0.006723  -0.006903  -0.006679  -0.006617  -0.006750  -0.001014  -0.006668  -0.001009  -0.001013  -0.006778  -0.006588  -0.006905  -0.006933  -0.006698  -0.006855  -0.006680  -0.006865  -0.006819  -0.006822  -0.001009  -0.001008  -0.001019  -0.006821  -0.006826  -0.001020  -0.006747  -0.006649  -0.006791  -0.006691  -0.006879  -0.006274  -0.006633  -0.005745  -0.006754  -0.006971  -0.006661  -0.006817  -0.005664  -0.006721  -0.006818  -0.006877  -0.001031  -0.000990  -0.001009  -0.006862  -0.006742  -0.006847  -0.001009  -0.006711  -0.006898  -0.006781  -0.006700  -0.006759  -0.006732  -0.006663  -0.006619  -0.006846  -0.006878  -0.006799  -0.001008  -0.005725  -0.006812  -0.000972  -0.001002  -0.006966  -0.006806  -0.006664  -0.006850  -0.006217  -0.000986  -0.006838  -0.006855  -0.006737  -0.006691  -0.006814  -0.000996  -0.000994  -0.006759  -0.006862  -0.006780  -0.006700  -0.000990  -0.006817  -0.001005  -0.000997  -0.006658  -0.001005  -0.001002  -0.006821  -0.001005  -0.006755  -0.007001  -0.000991  -0.006695  -0.000994  -0.006866  -0.001033  -0.006762  -0.001014  -0.006816  -0.006761  -0.006821  -0.006736  -0.000993  -0.006735  -0.000996  -0.000978  -0.006004  -0.006919  -0.006633  -0.006548  -0.001009  -0.006839  -0.006533  -0.000985  -0.006852  -0.000993  -0.006834  -0.006761  -0.006844  -0.006852  -0.006734  -0.006845  -0.006795  -0.006627  -0.001001  -0.006863  -0.001002  -0.006688  -0.006819  -0.006872  -0.006871  -0.001008  -0.006733  -0.006834  -0.001005  -0.006926  -0.006799  -0.006763  -0.006888  -0.001003  -0.001008  -0.006850  -0.006731  -0.006715  -0.006816  -0.006663  -0.000995  -0.000986    1\n",
      "911783      101                       0.0          0.0            0.0       0.0          0.0          0.0            0.0             0.000000            0.0            0.0         0.0                     0.0            0.0      0.0        0.0        0.0        0.0         0.0         0.0            0.0        0.0         0.0                      0.0         0.0      0.0            0.0               0.0                 0.0            0.0               0.0               0.0                 0.0                  0.0                 0.0              0.0                          0.0                 0.0           0.0             0.0             0.0             0.0              0.0                 0.0             0.0              0.0                           0.0                   1.0             0    0.0                        0    0    0.0               5.0             4.0          73.0   44.0  1.6      6.0              96.0   84.0   98.3           65.0   16.0         50.0  1.7  37.0   54.0  121.0  15.0  0.00        95.0    17.0  55.0  178.0   0.0  74.0  0.0   0.0   146.0   68   1       28         2          125.0        0           15.5              3.60  3.60  0.0             8.7             0.800000    40.0  29.30         29.30         10.2        150.0           9.9   7.50  0.0       0.0                 0.0       0.0              127.0    98.0  0.0            0                     0              0              76.333333  0.009040           15.0       0.0                  146.000000  0                 0                 0           0                    0         0           0           0       0             0.0   0.0      0.0    3.0       4.0       10.0   0.5                  4.0      0.0              0.0               0.0              0.0      0.0      0.0    0.0      0.0      0.0      0.0                0.0      0.0          0.000000          0.0            0.0          0.0             0.0           0.0               0.0                         0.0                        0.0              0.000000   0.0                 0.0        0.0        3.0     0.5                   4.0      -1.0               0.0                0.0               0.0       0.0       0.0     0.0       0.0       0.0       0.0                  0.0      0.0           0.000000           0.0             0.0           0.0              0.0            0.0                0.0                          0.0                         0.0               0.000000   0.0                 -2.0        0.0        8.0     0.5                   4.0      -0.6                0.0                0.0              28.0      7.0       0.0     0.0       0.0       0.0       0.0                  0.0      0.0           0.00000            0.0             0.0           0.0              0.0            0.0                0.0                          0.0                         0.0               14.000000  0.0                 70                         0.000000                   0.0                    0.0                  12.98408                0.0                   0.00000                   0.0                                 1389.278391                        0.000000                0.0                 0                 15555498    36731640  21640857  -0.000998  -0.006652  -0.006770  -0.000985  -0.000973  -0.006499  -0.006833  -0.006578  -0.006923  -0.000985  -0.001002  -0.006797  -0.006451  -0.000977  -0.006883  -0.006763  -0.006834  -0.006609  -0.001013  -0.006892  -0.006680  -0.006816  -0.001014  -0.006899  -0.006210  -0.006721  -0.006791  -0.006469  -0.006718  -0.000994  -0.006723  -0.006875  -0.006717  -0.006895  -0.006672  -0.006612  -0.006742  -0.001014  -0.006660  -0.001008  -0.001013  -0.006770  -0.006582  -0.006897  -0.006922  -0.006690  -0.006845  -0.006671  -0.006856  -0.006811  -0.006814  -0.001008  -0.001007  -0.001019  -0.006812  -0.006817  -0.001020  -0.006739  -0.006643  -0.006783  -0.006682  -0.006872  -0.006264  -0.006626  -0.005745  -0.006748  -0.006961  -0.006653  -0.006809  -0.005658  -0.006714  -0.006808  -0.006870  -0.001030  -0.000989  -0.001009  -0.006853  -0.006732  -0.006839  -0.001009  -0.006701  -0.006890  -0.006772  -0.006691  -0.006749  -0.006724  -0.006652  -0.006612  -0.006837  -0.006870  -0.006790  -0.001008  -0.005718  -0.006805  -0.000972  -0.001001  -0.006954  -0.006795  -0.006654  -0.006840  -0.006208  -0.000985  -0.006830  -0.006847  -0.006732  -0.006685  -0.006806  -0.000995  -0.000993  -0.006749  -0.006853  -0.006771  -0.006691  -0.000989  -0.006809  -0.001005  -0.000996  -0.006647  -0.001004  -0.001001  -0.006812  -0.001004  -0.006747  -0.006992  -0.000991  -0.006686  -0.000993  -0.006857  -0.001033  -0.006754  -0.001013  -0.006804  -0.006748  -0.006812  -0.006731  -0.000993  -0.006729  -0.000996  -0.000977  -0.005997  -0.006912  -0.006624  -0.006543  -0.001008  -0.006831  -0.006523  -0.000984  -0.006842  -0.000992  -0.006824  -0.006752  -0.006837  -0.006844  -0.006727  -0.006836  -0.006787  -0.006619  -0.001000  -0.006853  -0.001002  -0.006680  -0.006813  -0.006862  -0.006860  -0.001007  -0.006724  -0.006826  -0.001004  -0.006917  -0.006788  -0.006755  -0.006881  -0.001002  -0.001007  -0.006840  -0.006723  -0.006707  -0.006807  -0.006651  -0.000994  -0.000985    1\n",
      "                                                                                                                                                                                                                                                                                                                                                                                                                                                                                                                                                                                                                                                                                                                                                                                                                                                                                                                                                                                                                                                                                                                                                                                                                                                                                                                                                                                                                                                                                                                                                                                                                                                                                                                                                                                                                                                                                                                                                                                                                                                                                                                                                                                                                                                                                                                                                                                                                                                                                                                                                                                                                                                                                                                                                                                                                                                                                                                                                                                                                                                                                                                                                                                                                                                                                                                                                                                                                                                                                                                                                                                                                                                                                                                                                                                                                                                                                                                                                                                                                                                                                                                                                                                                                                                                                                                                                                                                                                                                                                                                                                                                                                                                                                                                                                                                                                                                                                                                                                                                                                                                                                                                                                                                                                                                                                                                                                                                                                              ..\n",
      "484623      238                       0.0          0.0            0.0       0.0          0.0          0.0            0.0             0.000000            0.0            0.0         0.0                     0.0            0.0      0.0        0.0        0.0        0.0         0.0         0.0            0.0        0.0         0.0                      0.0         0.0      0.0            0.0               0.0                 0.0            0.0               0.0               0.0                 0.0                  0.0                 0.0              0.0                          0.0                 0.0           0.0             0.0             0.0             0.0              0.0                 0.0             0.0              0.0                           0.0                   1.0             0    0.0                        0    0    0.0               5.0             4.0          63.0   33.0  1.2      6.0              125.0  106.0  98.5           81.0   17.0         70.0  1.1  0.0    68.0  142.0  0.0   0.01        81.7    0.0   0.0   165.0   0.0  0.0   0.0   0.0   140.0   54   1       27         2          0.0          0           26.0              3.75  3.75  0.0             8.2             0.466667    22.0  20.90         20.90         14.4        152.0           22.2  7.48  296.0     139.0               124.0     0.7              170.0    90.0  37.3           0                     0              0              92.666667  0.005273           15.0       0.0                  90.000000   0                 0                 0           0                    0         0           0           0       0             0.0   0.0      0.0   -5.0       6.0       5.0    0.5                 -6.0      0.0              0.0               0.0              15.0     9.0      0.0    0.0      0.0      0.0      0.0                0.0      0.0          0.000000          0.0            0.0          0.0             0.0           0.0               0.0                         0.0                        0.0              11.000000  0.0                -29.0      -3.0       -3.0     1.0                  -1.0      -0.6               0.2                0.0              -3.0       0.0       0.0     0.0       0.0       0.0       0.0                  0.0      0.0           0.000000           0.0             0.0           0.0              0.0            0.0                0.0                          0.0                         0.0              -1.000000   0.0                 -29.0      -3.0       -3.0     0.5                  -4.0       0.1               -0.1                0.0             -11.0      1.0       0.0     0.0       0.0       0.0       20.0                -52.0     0.0           0.00000            0.0             0.0           0.0              0.0            0.0                0.0                          0.0                         0.0              -3.000000   0.0                 2                          0.338497                   0.0                    0.0                  0.00000                 0.0                   0.00000                   0.0                                 0.000000                           0.000000                0.0                 0                 11849767    33568977  28990261  -0.001023  -0.010787  -0.011219  -0.001013  -0.000999  -0.010816  -0.011121  -0.010691  -0.011206  -0.001009  -0.001028  -0.011101  -0.010757  -0.001003  -0.011158  -0.010956  -0.011105  -0.010708  -0.001034  -0.011169  -0.010984  -0.011068  -0.001039  -0.011183  -0.010079  -0.010884  -0.011055  -0.010789  -0.010898  -0.001016  -0.010924  -0.011145  -0.010867  -0.011197  -0.011143  -0.011028  -0.011004  -0.001039  -0.010762  -0.001033  -0.001039  -0.011016  -0.010681  -0.011165  -0.011304  -0.010875  -0.011133  -0.011037  -0.011170  -0.011032  -0.011041  -0.001035  -0.001031  -0.001045  -0.011062  -0.011084  -0.001042  -0.010951  -0.010799  -0.010977  -0.011075  -0.011159  -0.010533  -0.011003  -0.009646  -0.010953  -0.011347  -0.010834  -0.011054  -0.009450  -0.010984  -0.011054  -0.011150  -0.001056  -0.001016  -0.001033  -0.011149  -0.011127  -0.011103  -0.001033  -0.010990  -0.011143  -0.010983  -0.010846  -0.010943  -0.010930  -0.010853  -0.010787  -0.011234  -0.011138  -0.011009  -0.001034  -0.009570  -0.011047  -0.000998  -0.001030  -0.011349  -0.011079  -0.010828  -0.011094  -0.010323  -0.001009  -0.011235  -0.011328  -0.010929  -0.011047  -0.011110  -0.001020  -0.001018  -0.010988  -0.011164  -0.010974  -0.010877  -0.001014  -0.011146  -0.001031  -0.001022  -0.010969  -0.001030  -0.001027  -0.011076  -0.001031  -0.010952  -0.011404  -0.001013  -0.011071  -0.001018  -0.011147  -0.001056  -0.010938  -0.001038  -0.011292  -0.011173  -0.011068  -0.011005  -0.001018  -0.011098  -0.001021  -0.001004  -0.009863  -0.011233  -0.010916  -0.010877  -0.001033  -0.011080  -0.010698  -0.001013  -0.011118  -0.001020  -0.011143  -0.010959  -0.011099  -0.011098  -0.010929  -0.011106  -0.011033  -0.010738  -0.001025  -0.011115  -0.001027  -0.010807  -0.011094  -0.011118  -0.011210  -0.001034  -0.010971  -0.011062  -0.001029  -0.011399  -0.011120  -0.010944  -0.011209  -0.001028  -0.001034  -0.011274  -0.010919  -0.010890  -0.011014  -0.011145  -0.001021  -0.001011    1\n",
      "484624      239                       0.0          0.0            0.0       0.0          0.0          0.0            0.0             0.000000            0.0            0.0         0.0                     0.0            0.0      0.0        0.0        0.0        0.0         0.0         0.0            0.0        0.0         0.0                      0.0         0.0      0.0            0.0               0.0                 0.0            0.0               0.0               0.0                 0.0                  0.0                 0.0              0.0                          0.0                 0.0           0.0             0.0             0.0             0.0              0.0                 0.0             0.0              0.0                           0.0                   1.0             0    0.0                        0    0    0.0               5.0             4.0          63.0   33.0  1.2      6.0              125.0  101.0  99.7           81.0   17.0         70.0  1.1  0.0    64.0  127.0  0.0   0.01        81.7    0.0   0.0   165.0   0.0  0.0   0.0   0.0   140.0   54   1       27         2          0.0          0           26.0              3.75  3.75  0.0             8.2             0.466667    22.0  20.90         20.90         14.4        152.0           22.2  7.48  296.0     139.0               124.0     0.7              170.0    93.0  37.3           0                     0              0              85.000000  0.005273           15.0       0.0                  90.000000   0                 0                 0           0                    0         0           0           0       0             0.0   0.0      0.0   -5.0       6.0       4.0    2.5                 -3.0      1.2              0.0               0.0             -11.0     2.0      0.0    0.0      0.0      0.0      0.0                0.0      0.0          0.000000          0.0            0.0          0.0             0.0           0.0               0.0                         0.0                        0.0             -2.333333   0.0                -29.0      -3.0       -6.0    -1.0                  -2.0       0.6               0.0                0.0              -26.0     -6.0       0.0     0.0       0.0       0.0       0.0                  0.0      0.0           0.000000           0.0             0.0           0.0              0.0            0.0                0.0                          0.0                         0.0              -12.666667  0.0                 -29.0      -3.0       -6.0     1.5                  -1.0       1.3               -0.1                0.0             -26.0     -4.0       0.0     0.0       0.0       0.0       20.0                -52.0     0.0           0.00000            0.0             0.0           0.0              0.0            0.0                0.0                          0.0                         0.0              -11.333333  0.0                 2                          0.338497                   0.0                    0.0                  0.00000                 0.0                   0.00000                   0.0                                 0.000000                           0.000000                0.0                 0                 11849767    33568977  28990261  -0.001013  -0.009476  -0.009811  -0.001003  -0.000989  -0.009461  -0.009770  -0.009392  -0.009848  -0.001000  -0.001018  -0.009740  -0.009406  -0.000993  -0.009808  -0.009630  -0.009754  -0.009420  -0.001026  -0.009815  -0.009616  -0.009724  -0.001030  -0.009821  -0.008863  -0.009562  -0.009701  -0.009413  -0.009576  -0.001008  -0.009600  -0.009795  -0.009553  -0.009837  -0.009728  -0.009631  -0.009653  -0.001029  -0.009461  -0.001024  -0.001029  -0.009675  -0.009383  -0.009815  -0.009919  -0.009550  -0.009777  -0.009655  -0.009804  -0.009697  -0.009706  -0.001025  -0.001022  -0.001035  -0.009721  -0.009736  -0.001034  -0.009621  -0.009482  -0.009648  -0.009690  -0.009800  -0.009187  -0.009621  -0.008395  -0.009624  -0.009963  -0.009506  -0.009706  -0.008258  -0.009630  -0.009712  -0.009795  -0.001047  -0.001006  -0.001024  -0.009790  -0.009740  -0.009755  -0.001024  -0.009633  -0.009796  -0.009650  -0.009532  -0.009617  -0.009598  -0.009530  -0.009456  -0.009843  -0.009788  -0.009676  -0.001024  -0.008358  -0.009707  -0.000988  -0.001019  -0.009966  -0.009731  -0.009512  -0.009747  -0.009018  -0.001001  -0.009838  -0.009901  -0.009599  -0.009670  -0.009750  -0.001010  -0.001009  -0.009650  -0.009802  -0.009644  -0.009548  -0.001004  -0.009773  -0.001021  -0.001013  -0.009602  -0.001021  -0.001018  -0.009736  -0.001021  -0.009624  -0.010008  -0.001005  -0.009684  -0.001009  -0.009791  -0.001047  -0.009611  -0.001029  -0.009885  -0.009777  -0.009724  -0.009655  -0.001009  -0.009712  -0.001012  -0.000994  -0.008656  -0.009863  -0.009561  -0.009495  -0.001023  -0.009736  -0.009384  -0.001002  -0.009767  -0.001009  -0.009777  -0.009622  -0.009747  -0.009754  -0.009596  -0.009758  -0.009689  -0.009440  -0.001015  -0.009766  -0.001018  -0.009502  -0.009734  -0.009770  -0.009830  -0.001024  -0.009635  -0.009721  -0.001020  -0.009980  -0.009756  -0.009619  -0.009833  -0.001018  -0.001024  -0.009876  -0.009592  -0.009563  -0.009683  -0.009716  -0.001011  -0.001001    1\n",
      "484625      240                       0.0          0.0            0.0       0.0          0.0          0.0            0.0             0.000000            0.0            0.0         0.0                     0.0            0.0      0.0        0.0        0.0        0.0         0.0         0.0            0.0        0.0         0.0                      0.0         0.0      0.0            0.0               0.0                 0.0            0.0               0.0               0.0                 0.0                  0.0                 0.0              0.0                          0.0                 0.0           0.0             0.0             0.0             0.0              0.0                 0.0             0.0              0.0                           0.0                   1.0             0    0.0                        0    0    0.0               5.0             4.0          63.0   33.0  1.2      6.0              137.0  90.0   99.7           80.5   17.0         70.0  1.1  0.0    71.0  147.0  0.0   0.01        81.7    0.0   0.0   165.0   0.0  0.0   0.0   0.0   140.0   54   1       27         2          400.0        0           27.0              3.75  3.75  0.0             8.2             0.466667    22.0  20.90         20.90         14.4        152.0           22.2  7.48  296.0     139.0               124.0     0.7              170.0    93.0  37.3           0                     0              0              96.333333  0.005273           15.0       0.0                  90.000000   0                 0                 0           0                    0         0           0           0       0             0.0   0.0      0.0    12.0     -0.5      -16.0   1.0                  3.0      1.2              0.0               0.0              5.0      3.0      0.0    0.0      0.0      0.0      0.0                0.0      0.0          0.000000          0.0            0.0          0.0             0.0           0.0               0.0                         0.0                        0.0              3.666667   0.0                -17.0      -3.5       -20.0    0.5                   0.0       0.6               0.0                0.0              -1.0       0.0       0.0     0.0       0.0       0.0       0.0                  0.0      0.0           0.000000           0.0             0.0           0.0              0.0            0.0                0.0                          0.0                         0.0              -0.333333   0.0                 -17.0      -3.5       -20.0    2.0                   0.0       1.3               -0.1                0.0             -10.0     -2.0       0.0     0.0       0.0       0.0       20.0                -52.0     0.0           0.00000            0.0             0.0           0.0              0.0            0.0                0.0                          0.0                         0.0              -4.666667   0.0                 2                          0.338497                   0.0                    0.0                  0.00000                 0.0                   0.00000                   0.0                                 0.000000                           0.000000                0.0                 0                 11849767    33568977  28990261  -0.001026  -0.011135  -0.011593  -0.001016  -0.001002  -0.011183  -0.011482  -0.011035  -0.011565  -0.001012  -0.001031  -0.011466  -0.011121  -0.001006  -0.011517  -0.011307  -0.011463  -0.011052  -0.001037  -0.011528  -0.011347  -0.011423  -0.001042  -0.011541  -0.010403  -0.011235  -0.011413  -0.011155  -0.011250  -0.001019  -0.011280  -0.011504  -0.011218  -0.011557  -0.011523  -0.011400  -0.011360  -0.001043  -0.011110  -0.001036  -0.001042  -0.011375  -0.011023  -0.011524  -0.011672  -0.011224  -0.011493  -0.011404  -0.011535  -0.011385  -0.011394  -0.001038  -0.001034  -0.001048  -0.011418  -0.011444  -0.001045  -0.011306  -0.011149  -0.011327  -0.011445  -0.011521  -0.010898  -0.011367  -0.009978  -0.011306  -0.011715  -0.011183  -0.011411  -0.009769  -0.011348  -0.011411  -0.011508  -0.001060  -0.001020  -0.001036  -0.011511  -0.011501  -0.011461  -0.001036  -0.011355  -0.011502  -0.011337  -0.011194  -0.011298  -0.011282  -0.011206  -0.011135  -0.011609  -0.011494  -0.011365  -0.001037  -0.009885  -0.011405  -0.001002  -0.001033  -0.011720  -0.011440  -0.011180  -0.011452  -0.010663  -0.001012  -0.011602  -0.011704  -0.011282  -0.011416  -0.011470  -0.001023  -0.001021  -0.011345  -0.011527  -0.011328  -0.011229  -0.001017  -0.011511  -0.001034  -0.001026  -0.011335  -0.001034  -0.001031  -0.011436  -0.001034  -0.011306  -0.011773  -0.001016  -0.011444  -0.001021  -0.011507  -0.001059  -0.011291  -0.001042  -0.011672  -0.011553  -0.011426  -0.011365  -0.001022  -0.011464  -0.001024  -0.001007  -0.010199  -0.011595  -0.011276  -0.011241  -0.001036  -0.011436  -0.011045  -0.001016  -0.011478  -0.001023  -0.011507  -0.011312  -0.011455  -0.011456  -0.011279  -0.011467  -0.011391  -0.011087  -0.001028  -0.011473  -0.001030  -0.011154  -0.011451  -0.011476  -0.011576  -0.001037  -0.011330  -0.011420  -0.001033  -0.011775  -0.011484  -0.011296  -0.011571  -0.001031  -0.001037  -0.011648  -0.011272  -0.011242  -0.011367  -0.011518  -0.001024  -0.001014    1\n",
      "484626      241                       0.0          0.0            0.0       0.0          0.0          0.0            0.0             0.000000            0.0            0.0         0.0                     0.0            0.0      0.0        0.0        0.0        0.0         0.0         0.0            0.0        0.0         0.0                      0.0         0.0      0.0            0.0               0.0                 0.0            0.0               0.0               0.0                 0.0                  0.0                 0.0              0.0                          0.0                 0.0           0.0             0.0             0.0             0.0              0.0                 0.0             0.0              0.0                           0.0                   1.0             0    0.0                        0    0    0.0               5.0             4.0          63.0   33.0  1.2      6.0              131.0  89.0   99.7           81.0   17.0         70.0  1.1  0.0    72.0  141.0  0.0   0.01        81.7    0.0   0.0   165.0   0.0  0.0   0.0   0.0   140.0   54   1       27         2          0.0          0           24.0              3.75  3.75  0.0             8.2             0.466667    22.0  20.90         20.90         14.4        152.0           22.2  7.48  296.0     139.0               124.0     0.7              170.0    96.0  37.3           0                     0              0              95.000000  0.005273           15.0       0.0                  90.000000   0                 0                 0           0                    0         0           0           0       0             0.0   0.0      0.0    6.0       0.0      -12.0  -2.0                  3.0      0.0              0.0               0.0              14.0     8.0      0.0    0.0      0.0      0.0      0.0                0.0      0.0          0.000000          0.0            0.0          0.0             0.0           0.0               0.0                         0.0                        0.0              10.000000  0.0                -23.0      -3.0       -16.0   -1.0                   1.0       1.2               0.0                0.0               10.0      8.0       0.0     0.0       0.0       0.0       0.0                  0.0      0.0           0.000000           0.0             0.0           0.0              0.0            0.0                0.0                          0.0                         0.0               8.666667   0.0                 -23.0      -3.0       -31.0   -3.0                   4.0       0.6                0.2                0.0             -34.0     -8.0       0.0     0.0       0.0       0.0       0.0                  0.0      0.0           0.00000            0.0             0.0           0.0              0.0            0.0                0.0                          0.0                         0.0              -16.666667  0.0                 2                          0.338497                   0.0                    0.0                  0.00000                 0.0                   0.00000                   0.0                                 0.000000                           0.000000                0.0                 0                 11849767    33568977  28990261  -0.001023  -0.010788  -0.011215  -0.001013  -0.000999  -0.010814  -0.011123  -0.010689  -0.011203  -0.001009  -0.001028  -0.011103  -0.010756  -0.001003  -0.011158  -0.010954  -0.011104  -0.010712  -0.001035  -0.011168  -0.010983  -0.011065  -0.001039  -0.011179  -0.010082  -0.010883  -0.011053  -0.010789  -0.010897  -0.001016  -0.010927  -0.011145  -0.010866  -0.011196  -0.011137  -0.011031  -0.011000  -0.001040  -0.010761  -0.001033  -0.001039  -0.011017  -0.010678  -0.011164  -0.011304  -0.010870  -0.011134  -0.011034  -0.011171  -0.011030  -0.011041  -0.001035  -0.001031  -0.001045  -0.011060  -0.011085  -0.001042  -0.010951  -0.010799  -0.010975  -0.011076  -0.011159  -0.010540  -0.010998  -0.009643  -0.010952  -0.011346  -0.010830  -0.011051  -0.009453  -0.010990  -0.011055  -0.011148  -0.001056  -0.001016  -0.001033  -0.011149  -0.011131  -0.011101  -0.001033  -0.010990  -0.011143  -0.010982  -0.010845  -0.010944  -0.010926  -0.010856  -0.010782  -0.011238  -0.011137  -0.011010  -0.001034  -0.009564  -0.011047  -0.000998  -0.001030  -0.011353  -0.011081  -0.010828  -0.011094  -0.010322  -0.001009  -0.011231  -0.011326  -0.010927  -0.011045  -0.011107  -0.001020  -0.001018  -0.010990  -0.011163  -0.010973  -0.010874  -0.001014  -0.011144  -0.001031  -0.001022  -0.010969  -0.001031  -0.001028  -0.011079  -0.001031  -0.010951  -0.011404  -0.001013  -0.011077  -0.001018  -0.011147  -0.001056  -0.010936  -0.001038  -0.011296  -0.011179  -0.011067  -0.011002  -0.001018  -0.011095  -0.001021  -0.001004  -0.009876  -0.011231  -0.010917  -0.010869  -0.001033  -0.011078  -0.010699  -0.001013  -0.011118  -0.001020  -0.011142  -0.010957  -0.011096  -0.011096  -0.010926  -0.011109  -0.011032  -0.010742  -0.001025  -0.011115  -0.001027  -0.010805  -0.011089  -0.011117  -0.011210  -0.001034  -0.010976  -0.011062  -0.001029  -0.011398  -0.011122  -0.010943  -0.011205  -0.001028  -0.001034  -0.011276  -0.010918  -0.010890  -0.011014  -0.011141  -0.001021  -0.001011    1\n",
      "1372613     137                       0.0          0.0            0.0       0.0          0.0          0.0            0.0             0.000000            0.0            0.0         0.0                     0.0            0.0      0.0        0.0        0.0        0.0         0.0         0.0            0.0        0.0         0.0                      0.0         0.0      0.0            0.0               0.0                 0.0            0.0               0.0               0.0                 0.0                  0.0                 0.0              0.0                          0.0                 0.0           0.0             0.0             0.0             0.0              0.0                 0.0             0.0              0.0                           0.0                   1.0             0    0.0                        0    0    0.0               5.0             4.0          118.0  45.0  1.6      6.0              93.0   77.0   97.4           55.0   0.0          70.0  1.7  0.0    64.0  118.0  0.0   0.01        68.0    0.0   0.0   173.0   0.0  0.0   0.0   0.0   143.0   49   1       28         2          80.0         0           10.5              3.10  3.10  0.0             9.2             0.933333    32.0  12.70         12.70         8.3         178.0           7.9   7.39  19.0      54.0                34.0      3.0              217.5    98.0  36.6           0                     0              0              82.000000  0.010547           15.0       1.0                  168.571429  0                 0                 2           0                    0         0           2           1       0             0.0   0.0      0.0    0.0       0.0      -2.0    2.5                 -1.0     -0.6              0.0               0.0              5.0      5.0      0.0    0.0      0.0      0.0      0.0                0.0      0.0          0.000000          0.0            0.0          0.0             0.0           0.0               0.0                         0.0                        0.0              5.000000   0.0                 0.0        0.0        0.0    -2.0                   2.0      -0.8               0.0                0.0               25.0      11.0      0.0     0.0       0.0       0.0       0.0                  0.0      0.0           0.000000           0.0             0.0           0.0              0.0            0.0                0.0                          0.0                         0.0               15.666667  0.0                  0.0        0.0        0.0     0.0                   0.0      -0.8                0.0                0.0              14.0      6.0       0.0     0.0       0.0       0.0       0.0                  0.0      0.0           0.00000            0.0             0.0           0.0              0.0            0.0                0.0                          0.0                         0.0               8.666667   0.0                 31                         48.337049                  0.0                    0.0                  0.00000                 0.0                   0.00000                   0.0                                 0.000000                           0.000000                0.0                 0                 13651601    39999230  22584645  -0.001007  -0.007982  -0.008218  -0.000995  -0.000982  -0.007906  -0.008217  -0.007908  -0.008304  -0.000993  -0.001012  -0.008191  -0.007861  -0.000986  -0.008262  -0.008112  -0.008205  -0.007927  -0.001021  -0.008269  -0.008070  -0.008185  -0.001023  -0.008279  -0.007462  -0.008063  -0.008165  -0.007864  -0.008067  -0.001002  -0.008076  -0.008248  -0.008058  -0.008284  -0.008128  -0.008042  -0.008120  -0.001023  -0.007987  -0.001017  -0.001022  -0.008142  -0.007905  -0.008270  -0.008333  -0.008034  -0.008227  -0.008086  -0.008244  -0.008168  -0.008172  -0.001017  -0.001015  -0.001028  -0.008183  -0.008191  -0.001028  -0.008096  -0.007981  -0.008130  -0.008107  -0.008256  -0.007652  -0.008049  -0.007008  -0.008109  -0.008374  -0.007998  -0.008177  -0.006865  -0.008080  -0.008173  -0.008252  -0.001039  -0.000999  -0.001017  -0.008237  -0.008153  -0.008217  -0.001017  -0.008091  -0.008260  -0.008133  -0.008032  -0.008104  -0.008078  -0.008006  -0.007955  -0.008257  -0.008243  -0.008151  -0.001017  -0.006947  -0.008172  -0.000981  -0.001011  -0.008366  -0.008172  -0.007999  -0.008208  -0.007508  -0.000994  -0.008249  -0.008284  -0.008084  -0.008098  -0.008195  -0.001004  -0.001002  -0.008111  -0.008248  -0.008128  -0.008041  -0.000998  -0.008201  -0.001013  -0.001005  -0.008035  -0.001014  -0.001010  -0.008188  -0.001013  -0.008101  -0.008413  -0.000999  -0.008102  -0.001002  -0.008231  -0.001041  -0.008105  -0.001022  -0.008257  -0.008170  -0.008189  -0.008113  -0.001002  -0.008138  -0.001005  -0.000986  -0.007258  -0.008307  -0.008001  -0.007943  -0.001016  -0.008203  -0.007853  -0.000994  -0.008218  -0.001002  -0.008216  -0.008102  -0.008215  -0.008218  -0.008080  -0.008210  -0.008159  -0.007945  -0.001009  -0.008230  -0.001011  -0.008015  -0.008193  -0.008233  -0.008254  -0.001016  -0.008095  -0.008189  -0.001013  -0.008356  -0.008185  -0.008105  -0.008275  -0.001011  -0.001016  -0.008271  -0.008072  -0.008049  -0.008160  -0.008088  -0.001004  -0.000994    1\n",
      "Length: 787558, dtype: int64\n"
     ]
    }
   ],
   "source": [
    "smote = SMOTE(random_state=42)\n",
    "\n",
    "X_train_feature = mimic_train_feature.drop(['classes'], axis = 1)\n",
    "y_train_feature = mimic_train_feature[['classes']].copy()\n",
    "\n",
    "X_train_over_feat, y_train_over_feat = smote.fit_resample(X_train_feature, y_train_feature)\n",
    "print(\"SMOTE 적용 전 학습용 피처/레이블 데이터 세트 : \", X_train_feature.shape, y_train_feature.shape)\n",
    "print('SMOTE 적용 후 학습용 피처/레이블 데이터 세트 :', X_train_over_feat.shape, y_train_over_feat.shape)\n",
    "print('SMOTE 적용 후 값의 분포 :\\n', X_train_over_feat.value_counts())"
   ]
  },
  {
   "cell_type": "code",
   "execution_count": 16,
   "metadata": {},
   "outputs": [],
   "source": [
    "augmented_train_df_feat = pd.concat([X_train_over_feat.drop('Unnamed: 0', axis=1), y_train_over_feat], axis = 1)\n",
    "augmented_train_df_feat.to_csv('augmented_train_df(feature_space).csv', compression='gzip')"
   ]
  },
  {
   "cell_type": "code",
   "execution_count": null,
   "metadata": {},
   "outputs": [],
   "source": []
  }
 ],
 "metadata": {
  "kernelspec": {
   "display_name": "Umap_python",
   "language": "python",
   "name": "python3"
  },
  "language_info": {
   "codemirror_mode": {
    "name": "ipython",
    "version": 3
   },
   "file_extension": ".py",
   "mimetype": "text/x-python",
   "name": "python",
   "nbconvert_exporter": "python",
   "pygments_lexer": "ipython3",
   "version": "3.8.16"
  }
 },
 "nbformat": 4,
 "nbformat_minor": 2
}
