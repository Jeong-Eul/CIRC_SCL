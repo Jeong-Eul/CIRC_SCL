{
 "cells": [
  {
   "cell_type": "code",
   "execution_count": 34,
   "metadata": {},
   "outputs": [],
   "source": [
    "import pandas as pd\n",
    "import numpy as np\n",
    "import time\n",
    "from pycaret.classification import *"
   ]
  },
  {
   "cell_type": "code",
   "execution_count": 62,
   "metadata": {},
   "outputs": [],
   "source": [
    "def check_class_ratio(dataset):\n",
    "    class_ratio = round(np.mean(dataset.circ_next_12h), 2)\n",
    "    return class_ratio\n",
    "\n",
    "def random_split_stay(df, train_ratio, Threshold, n_trial):\n",
    "    data = df.copy()\n",
    "    \n",
    "    search_time = time.time()\n",
    "    \n",
    "    for T in range(n_trial):\n",
    "        array = data.subject_id.unique()\n",
    "        \n",
    "        # seed = np.random.randint(0, 10000, 1)\n",
    "        seed = 3582\n",
    "        np.random.seed(seed) \n",
    "        np.random.shuffle(array)\n",
    "\n",
    "\n",
    "        split_point = int(train_ratio * len(array))\n",
    "        stay_for_train, stay_for_test = np.split(array, [split_point])\n",
    "\n",
    "        \n",
    "\n",
    "        condition_train = data.subject_id.isin(stay_for_train)\n",
    "        holdout_train = data[condition_train]\n",
    "\n",
    "        condition_test = data.subject_id.isin(stay_for_test)\n",
    "        holdout_test = data[condition_test]\n",
    "        \n",
    "        # holdout_test = holdout_test.sort_values(by=['subject_id',  'stay_id', 'Time_since_ICU_admission']) \n",
    "        # holdout_train = holdout_train.sort_values(by=['subject_id',  'stay_id', 'Time_since_ICU_admission']) \n",
    "\n",
    "        train_class_ratio  = check_class_ratio(holdout_train)\n",
    "        test_class_ratio  = check_class_ratio(holdout_test)\n",
    "                \n",
    "            \n",
    "        if (train_class_ratio - test_class_ratio) >= Threshold:\n",
    "            \n",
    "            break  # 클래스 비율이 모두 threshold 이상일 경우 반복문 종료\n",
    "        \n",
    "        if T % 100 == 0:\n",
    "            print('Trial: ', T)\n",
    "            \n",
    "        if T % 10000 == 0:\n",
    "        \n",
    "            Threshold = Threshold + 0.05\n",
    "            print('Threshold 조정 + 0.05, 현재 한계값: {}'.format(Threshold))\n",
    "        \n",
    "        if T == 9999:\n",
    "            print('최대 Trial 달성, 분할 불가')\n",
    "        \n",
    "    train = holdout_train.copy()\n",
    "    test = holdout_test.copy()\n",
    "    search_time_end = time.time()\n",
    "    \n",
    "    trn_class1 = train.circ_next_12h.value_counts()[0]\n",
    "    trn_class2 = train.circ_next_12h.value_counts()[1]\n",
    "    \n",
    "    tes_class1 = test.circ_next_12h.value_counts()[0]\n",
    "    tes_class2 = test.circ_next_12h.value_counts()[1]\n",
    "\n",
    "    \n",
    "    \n",
    "    print('train set : test set = {} : {}'.format(train_ratio, 1-train_ratio))\n",
    "    print('Train set class: ', train.circ_next_12h.value_counts().sort_index())\n",
    "    print('Test set class: ', test.circ_next_12h.value_counts().sort_index())\n",
    "    print('-'*20)\n",
    "    print('Train class ratio: {}:{}'.format((trn_class1)/(trn_class1+trn_class2), (trn_class2)/(trn_class1+trn_class2)))\n",
    "    print('Test class ratio: {}:{}'.format((tes_class1)/(tes_class1+tes_class2), (tes_class2)/(tes_class1+tes_class2)))\n",
    "    print('-'*20)\n",
    "    print('Number of trainset patient:', len(train.subject_id.unique()))\n",
    "    print('Number of testset patient:', len(test.subject_id.unique()))\n",
    "    print('Number of trainset stay:', len(train.stay_id.unique()))\n",
    "    print('Number of testset stay:', len(test.stay_id.unique()))\n",
    "    print('-'*20)\n",
    "    print('Split seed: ',seed)\n",
    "    print('train ratio:', train_ratio)\n",
    "    print('Threshold:', Threshold)\n",
    "    print('-'*20)\n",
    "    print('총 소요 시간(초):{}'.format(search_time_end - search_time))\n",
    "    print('시도한 trial 수: ', T)\n",
    "    \n",
    "    return train, test, stay_for_train, stay_for_test"
   ]
  },
  {
   "cell_type": "code",
   "execution_count": 36,
   "metadata": {},
   "outputs": [],
   "source": [
    "dataset = pd.read_csv('/Users/DAHS/MIMIC-IV-Data-Pipeline/MIMIC_pipeline/mimic_df.csv', index_col = 0, compression='gzip')"
   ]
  },
  {
   "cell_type": "code",
   "execution_count": 37,
   "metadata": {},
   "outputs": [],
   "source": [
    "dataset.replace([np.inf, -np.inf], np.nan, inplace=True)\n",
    "\n",
    "dataset['pao2/fio2_fillna']=0\n",
    "idx = dataset[dataset['pao2/fio2'].isnull()].index\n",
    "dataset['pao2/fio2'].loc[idx]=0\n",
    "dataset['pao2/fio2_fillna'].loc[idx]=1"
   ]
  },
  {
   "cell_type": "code",
   "execution_count": 209,
   "metadata": {},
   "outputs": [],
   "source": [
    "def filter_classes_with_condition(df):\n",
    "    filtered_df = df[df['classes'].isin([0, 1, 3, 4])]\n",
    "    class_3_subset = filtered_df[(filtered_df['classes'] == 3)|(filtered_df['classes'] == 4)].sample(frac=1) \n",
    "\n",
    "    class_0_1_df = filtered_df[filtered_df['classes'].isin([0, 1])]\n",
    "    result_df = pd.concat([class_0_1_df, class_3_subset])\n",
    "\n",
    "    return result_df"
   ]
  },
  {
   "cell_type": "code",
   "execution_count": 210,
   "metadata": {},
   "outputs": [
    {
     "name": "stdout",
     "output_type": "stream",
     "text": [
      "Trial:  0\n",
      "Threshold 조정 + 0.05, 현재 한계값: 0.1\n",
      "train set : test set = 0.7 : 0.30000000000000004\n",
      "Train set class:  0.0    971665\n",
      "1.0    256070\n",
      "Name: circ_next_12h, dtype: int64\n",
      "Test set class:  0.0    431215\n",
      "1.0    114522\n",
      "Name: circ_next_12h, dtype: int64\n",
      "--------------------\n",
      "Train class ratio: 0.7914289321392646:0.20857106786073543\n",
      "Test class ratio: 0.7901516664620504:0.2098483335379496\n",
      "--------------------\n",
      "Number of trainset patient: 7515\n",
      "Number of testset patient: 3221\n",
      "Number of trainset stay: 8381\n",
      "Number of testset stay: 3596\n",
      "--------------------\n",
      "Split seed:  3582\n",
      "train ratio: 0.7\n",
      "Threshold: 0.1\n",
      "--------------------\n",
      "총 소요 시간(초):1.047497034072876\n",
      "시도한 trial 수:  0\n"
     ]
    }
   ],
   "source": [
    "mimic_train_ori, mimic_valid_ori, trn_patient, val_patient = random_split_stay(dataset, 0.7, Threshold=0.05, n_trial=1) \n",
    "mimic_train_ori_sampling = filter_classes_with_condition(mimic_train_ori)"
   ]
  },
  {
   "cell_type": "code",
   "execution_count": 211,
   "metadata": {},
   "outputs": [
    {
     "data": {
      "text/html": [
       "<style type=\"text/css\">\n",
       "#T_94e7f_row8_col1 {\n",
       "  background-color: lightgreen;\n",
       "}\n",
       "</style>\n",
       "<table id=\"T_94e7f\">\n",
       "  <thead>\n",
       "    <tr>\n",
       "      <th class=\"blank level0\" >&nbsp;</th>\n",
       "      <th id=\"T_94e7f_level0_col0\" class=\"col_heading level0 col0\" >Description</th>\n",
       "      <th id=\"T_94e7f_level0_col1\" class=\"col_heading level0 col1\" >Value</th>\n",
       "    </tr>\n",
       "  </thead>\n",
       "  <tbody>\n",
       "    <tr>\n",
       "      <th id=\"T_94e7f_level0_row0\" class=\"row_heading level0 row0\" >0</th>\n",
       "      <td id=\"T_94e7f_row0_col0\" class=\"data row0 col0\" >Session id</td>\n",
       "      <td id=\"T_94e7f_row0_col1\" class=\"data row0 col1\" >123</td>\n",
       "    </tr>\n",
       "    <tr>\n",
       "      <th id=\"T_94e7f_level0_row1\" class=\"row_heading level0 row1\" >1</th>\n",
       "      <td id=\"T_94e7f_row1_col0\" class=\"data row1 col0\" >Target</td>\n",
       "      <td id=\"T_94e7f_row1_col1\" class=\"data row1 col1\" >circ_next_12h</td>\n",
       "    </tr>\n",
       "    <tr>\n",
       "      <th id=\"T_94e7f_level0_row2\" class=\"row_heading level0 row2\" >2</th>\n",
       "      <td id=\"T_94e7f_row2_col0\" class=\"data row2 col0\" >Target type</td>\n",
       "      <td id=\"T_94e7f_row2_col1\" class=\"data row2 col1\" >Binary</td>\n",
       "    </tr>\n",
       "    <tr>\n",
       "      <th id=\"T_94e7f_level0_row3\" class=\"row_heading level0 row3\" >3</th>\n",
       "      <td id=\"T_94e7f_row3_col0\" class=\"data row3 col0\" >Original data shape</td>\n",
       "      <td id=\"T_94e7f_row3_col1\" class=\"data row3 col1\" >(1769184, 184)</td>\n",
       "    </tr>\n",
       "    <tr>\n",
       "      <th id=\"T_94e7f_level0_row4\" class=\"row_heading level0 row4\" >4</th>\n",
       "      <td id=\"T_94e7f_row4_col0\" class=\"data row4 col0\" >Transformed data shape</td>\n",
       "      <td id=\"T_94e7f_row4_col1\" class=\"data row4 col1\" >(1769184, 184)</td>\n",
       "    </tr>\n",
       "    <tr>\n",
       "      <th id=\"T_94e7f_level0_row5\" class=\"row_heading level0 row5\" >5</th>\n",
       "      <td id=\"T_94e7f_row5_col0\" class=\"data row5 col0\" >Transformed train set shape</td>\n",
       "      <td id=\"T_94e7f_row5_col1\" class=\"data row5 col1\" >(1223447, 184)</td>\n",
       "    </tr>\n",
       "    <tr>\n",
       "      <th id=\"T_94e7f_level0_row6\" class=\"row_heading level0 row6\" >6</th>\n",
       "      <td id=\"T_94e7f_row6_col0\" class=\"data row6 col0\" >Transformed test set shape</td>\n",
       "      <td id=\"T_94e7f_row6_col1\" class=\"data row6 col1\" >(545737, 184)</td>\n",
       "    </tr>\n",
       "    <tr>\n",
       "      <th id=\"T_94e7f_level0_row7\" class=\"row_heading level0 row7\" >7</th>\n",
       "      <td id=\"T_94e7f_row7_col0\" class=\"data row7 col0\" >Numeric features</td>\n",
       "      <td id=\"T_94e7f_row7_col1\" class=\"data row7 col1\" >183</td>\n",
       "    </tr>\n",
       "    <tr>\n",
       "      <th id=\"T_94e7f_level0_row8\" class=\"row_heading level0 row8\" >8</th>\n",
       "      <td id=\"T_94e7f_row8_col0\" class=\"data row8 col0\" >Preprocess</td>\n",
       "      <td id=\"T_94e7f_row8_col1\" class=\"data row8 col1\" >True</td>\n",
       "    </tr>\n",
       "    <tr>\n",
       "      <th id=\"T_94e7f_level0_row9\" class=\"row_heading level0 row9\" >9</th>\n",
       "      <td id=\"T_94e7f_row9_col0\" class=\"data row9 col0\" >Imputation type</td>\n",
       "      <td id=\"T_94e7f_row9_col1\" class=\"data row9 col1\" >simple</td>\n",
       "    </tr>\n",
       "    <tr>\n",
       "      <th id=\"T_94e7f_level0_row10\" class=\"row_heading level0 row10\" >10</th>\n",
       "      <td id=\"T_94e7f_row10_col0\" class=\"data row10 col0\" >Numeric imputation</td>\n",
       "      <td id=\"T_94e7f_row10_col1\" class=\"data row10 col1\" >mean</td>\n",
       "    </tr>\n",
       "    <tr>\n",
       "      <th id=\"T_94e7f_level0_row11\" class=\"row_heading level0 row11\" >11</th>\n",
       "      <td id=\"T_94e7f_row11_col0\" class=\"data row11 col0\" >Categorical imputation</td>\n",
       "      <td id=\"T_94e7f_row11_col1\" class=\"data row11 col1\" >mode</td>\n",
       "    </tr>\n",
       "    <tr>\n",
       "      <th id=\"T_94e7f_level0_row12\" class=\"row_heading level0 row12\" >12</th>\n",
       "      <td id=\"T_94e7f_row12_col0\" class=\"data row12 col0\" >Fold Generator</td>\n",
       "      <td id=\"T_94e7f_row12_col1\" class=\"data row12 col1\" >StratifiedKFold</td>\n",
       "    </tr>\n",
       "    <tr>\n",
       "      <th id=\"T_94e7f_level0_row13\" class=\"row_heading level0 row13\" >13</th>\n",
       "      <td id=\"T_94e7f_row13_col0\" class=\"data row13 col0\" >Fold Number</td>\n",
       "      <td id=\"T_94e7f_row13_col1\" class=\"data row13 col1\" >10</td>\n",
       "    </tr>\n",
       "    <tr>\n",
       "      <th id=\"T_94e7f_level0_row14\" class=\"row_heading level0 row14\" >14</th>\n",
       "      <td id=\"T_94e7f_row14_col0\" class=\"data row14 col0\" >CPU Jobs</td>\n",
       "      <td id=\"T_94e7f_row14_col1\" class=\"data row14 col1\" >-1</td>\n",
       "    </tr>\n",
       "    <tr>\n",
       "      <th id=\"T_94e7f_level0_row15\" class=\"row_heading level0 row15\" >15</th>\n",
       "      <td id=\"T_94e7f_row15_col0\" class=\"data row15 col0\" >Use GPU</td>\n",
       "      <td id=\"T_94e7f_row15_col1\" class=\"data row15 col1\" >False</td>\n",
       "    </tr>\n",
       "    <tr>\n",
       "      <th id=\"T_94e7f_level0_row16\" class=\"row_heading level0 row16\" >16</th>\n",
       "      <td id=\"T_94e7f_row16_col0\" class=\"data row16 col0\" >Log Experiment</td>\n",
       "      <td id=\"T_94e7f_row16_col1\" class=\"data row16 col1\" >False</td>\n",
       "    </tr>\n",
       "    <tr>\n",
       "      <th id=\"T_94e7f_level0_row17\" class=\"row_heading level0 row17\" >17</th>\n",
       "      <td id=\"T_94e7f_row17_col0\" class=\"data row17 col0\" >Experiment Name</td>\n",
       "      <td id=\"T_94e7f_row17_col1\" class=\"data row17 col1\" >clf-default-name</td>\n",
       "    </tr>\n",
       "    <tr>\n",
       "      <th id=\"T_94e7f_level0_row18\" class=\"row_heading level0 row18\" >18</th>\n",
       "      <td id=\"T_94e7f_row18_col0\" class=\"data row18 col0\" >USI</td>\n",
       "      <td id=\"T_94e7f_row18_col1\" class=\"data row18 col1\" >c8a9</td>\n",
       "    </tr>\n",
       "  </tbody>\n",
       "</table>\n"
      ],
      "text/plain": [
       "<pandas.io.formats.style.Styler at 0x211df53ea30>"
      ]
     },
     "metadata": {},
     "output_type": "display_data"
    }
   ],
   "source": [
    "# original space, circulatory prediction\n",
    "\n",
    "input_space_clf_setting = setup(data = mimic_train_ori_sampling.drop(['Unnamed: 0', 'subject_id', 'stay_id', 'hadm_id','Annotation','classes'], axis = 1), target = 'circ_next_12h',\n",
    "                                test_data = mimic_valid_ori.drop(['Unnamed: 0', 'subject_id', 'stay_id', 'hadm_id','Annotation','classes'], axis = 1),\n",
    "                                index=False, session_id = 123)"
   ]
  },
  {
   "cell_type": "code",
   "execution_count": 13,
   "metadata": {},
   "outputs": [
    {
     "data": {
      "text/html": [],
      "text/plain": [
       "<IPython.core.display.HTML object>"
      ]
     },
     "metadata": {},
     "output_type": "display_data"
    },
    {
     "data": {
      "text/html": [
       "<style type=\"text/css\">\n",
       "#T_9c896 th {\n",
       "  text-align: left;\n",
       "}\n",
       "#T_9c896_row0_col0, #T_9c896_row0_col2, #T_9c896_row0_col3, #T_9c896_row0_col5, #T_9c896_row0_col6, #T_9c896_row0_col7, #T_9c896_row1_col0, #T_9c896_row1_col1, #T_9c896_row1_col3, #T_9c896_row1_col4, #T_9c896_row1_col5, #T_9c896_row1_col6, #T_9c896_row2_col0, #T_9c896_row2_col1, #T_9c896_row2_col2, #T_9c896_row2_col3, #T_9c896_row2_col4, #T_9c896_row2_col7, #T_9c896_row3_col0, #T_9c896_row3_col1, #T_9c896_row3_col2, #T_9c896_row3_col3, #T_9c896_row3_col4, #T_9c896_row3_col5, #T_9c896_row3_col6, #T_9c896_row3_col7, #T_9c896_row4_col0, #T_9c896_row4_col1, #T_9c896_row4_col2, #T_9c896_row4_col4, #T_9c896_row4_col5, #T_9c896_row4_col6, #T_9c896_row4_col7 {\n",
       "  text-align: left;\n",
       "}\n",
       "#T_9c896_row0_col1, #T_9c896_row0_col4, #T_9c896_row1_col2, #T_9c896_row1_col7, #T_9c896_row2_col5, #T_9c896_row2_col6, #T_9c896_row4_col3 {\n",
       "  text-align: left;\n",
       "  background-color: yellow;\n",
       "}\n",
       "#T_9c896_row0_col8, #T_9c896_row2_col8, #T_9c896_row3_col8, #T_9c896_row4_col8 {\n",
       "  text-align: left;\n",
       "  background-color: lightgrey;\n",
       "}\n",
       "#T_9c896_row1_col8 {\n",
       "  text-align: left;\n",
       "  background-color: yellow;\n",
       "  background-color: lightgrey;\n",
       "}\n",
       "</style>\n",
       "<table id=\"T_9c896\">\n",
       "  <thead>\n",
       "    <tr>\n",
       "      <th class=\"blank level0\" >&nbsp;</th>\n",
       "      <th id=\"T_9c896_level0_col0\" class=\"col_heading level0 col0\" >Model</th>\n",
       "      <th id=\"T_9c896_level0_col1\" class=\"col_heading level0 col1\" >Accuracy</th>\n",
       "      <th id=\"T_9c896_level0_col2\" class=\"col_heading level0 col2\" >AUC</th>\n",
       "      <th id=\"T_9c896_level0_col3\" class=\"col_heading level0 col3\" >Recall</th>\n",
       "      <th id=\"T_9c896_level0_col4\" class=\"col_heading level0 col4\" >Prec.</th>\n",
       "      <th id=\"T_9c896_level0_col5\" class=\"col_heading level0 col5\" >F1</th>\n",
       "      <th id=\"T_9c896_level0_col6\" class=\"col_heading level0 col6\" >Kappa</th>\n",
       "      <th id=\"T_9c896_level0_col7\" class=\"col_heading level0 col7\" >MCC</th>\n",
       "      <th id=\"T_9c896_level0_col8\" class=\"col_heading level0 col8\" >TT (Sec)</th>\n",
       "    </tr>\n",
       "  </thead>\n",
       "  <tbody>\n",
       "    <tr>\n",
       "      <th id=\"T_9c896_level0_row0\" class=\"row_heading level0 row0\" >lr</th>\n",
       "      <td id=\"T_9c896_row0_col0\" class=\"data row0 col0\" >Logistic Regression</td>\n",
       "      <td id=\"T_9c896_row0_col1\" class=\"data row0 col1\" >0.9592</td>\n",
       "      <td id=\"T_9c896_row0_col2\" class=\"data row0 col2\" >0.7691</td>\n",
       "      <td id=\"T_9c896_row0_col3\" class=\"data row0 col3\" >0.0406</td>\n",
       "      <td id=\"T_9c896_row0_col4\" class=\"data row0 col4\" >0.5148</td>\n",
       "      <td id=\"T_9c896_row0_col5\" class=\"data row0 col5\" >0.0747</td>\n",
       "      <td id=\"T_9c896_row0_col6\" class=\"data row0 col6\" >0.0688</td>\n",
       "      <td id=\"T_9c896_row0_col7\" class=\"data row0 col7\" >0.1340</td>\n",
       "      <td id=\"T_9c896_row0_col8\" class=\"data row0 col8\" >29.7160</td>\n",
       "    </tr>\n",
       "    <tr>\n",
       "      <th id=\"T_9c896_level0_row1\" class=\"row_heading level0 row1\" >lightgbm</th>\n",
       "      <td id=\"T_9c896_row1_col0\" class=\"data row1 col0\" >Light Gradient Boosting Machine</td>\n",
       "      <td id=\"T_9c896_row1_col1\" class=\"data row1 col1\" >0.9581</td>\n",
       "      <td id=\"T_9c896_row1_col2\" class=\"data row1 col2\" >0.8150</td>\n",
       "      <td id=\"T_9c896_row1_col3\" class=\"data row1 col3\" >0.1247</td>\n",
       "      <td id=\"T_9c896_row1_col4\" class=\"data row1 col4\" >0.4515</td>\n",
       "      <td id=\"T_9c896_row1_col5\" class=\"data row1 col5\" >0.1936</td>\n",
       "      <td id=\"T_9c896_row1_col6\" class=\"data row1 col6\" >0.1791</td>\n",
       "      <td id=\"T_9c896_row1_col7\" class=\"data row1 col7\" >0.2200</td>\n",
       "      <td id=\"T_9c896_row1_col8\" class=\"data row1 col8\" >2.4140</td>\n",
       "    </tr>\n",
       "    <tr>\n",
       "      <th id=\"T_9c896_level0_row2\" class=\"row_heading level0 row2\" >xgboost</th>\n",
       "      <td id=\"T_9c896_row2_col0\" class=\"data row2 col0\" >Extreme Gradient Boosting</td>\n",
       "      <td id=\"T_9c896_row2_col1\" class=\"data row2 col1\" >0.9558</td>\n",
       "      <td id=\"T_9c896_row2_col2\" class=\"data row2 col2\" >0.7895</td>\n",
       "      <td id=\"T_9c896_row2_col3\" class=\"data row2 col3\" >0.1345</td>\n",
       "      <td id=\"T_9c896_row2_col4\" class=\"data row2 col4\" >0.3756</td>\n",
       "      <td id=\"T_9c896_row2_col5\" class=\"data row2 col5\" >0.1966</td>\n",
       "      <td id=\"T_9c896_row2_col6\" class=\"data row2 col6\" >0.1793</td>\n",
       "      <td id=\"T_9c896_row2_col7\" class=\"data row2 col7\" >0.2053</td>\n",
       "      <td id=\"T_9c896_row2_col8\" class=\"data row2 col8\" >3.9660</td>\n",
       "    </tr>\n",
       "    <tr>\n",
       "      <th id=\"T_9c896_level0_row3\" class=\"row_heading level0 row3\" >svm</th>\n",
       "      <td id=\"T_9c896_row3_col0\" class=\"data row3 col0\" >SVM - Linear Kernel</td>\n",
       "      <td id=\"T_9c896_row3_col1\" class=\"data row3 col1\" >0.9124</td>\n",
       "      <td id=\"T_9c896_row3_col2\" class=\"data row3 col2\" >0.0000</td>\n",
       "      <td id=\"T_9c896_row3_col3\" class=\"data row3 col3\" >0.2122</td>\n",
       "      <td id=\"T_9c896_row3_col4\" class=\"data row3 col4\" >0.2057</td>\n",
       "      <td id=\"T_9c896_row3_col5\" class=\"data row3 col5\" >0.1773</td>\n",
       "      <td id=\"T_9c896_row3_col6\" class=\"data row3 col6\" >0.1411</td>\n",
       "      <td id=\"T_9c896_row3_col7\" class=\"data row3 col7\" >0.1525</td>\n",
       "      <td id=\"T_9c896_row3_col8\" class=\"data row3 col8\" >3.9540</td>\n",
       "    </tr>\n",
       "    <tr>\n",
       "      <th id=\"T_9c896_level0_row4\" class=\"row_heading level0 row4\" >dt</th>\n",
       "      <td id=\"T_9c896_row4_col0\" class=\"data row4 col0\" >Decision Tree Classifier</td>\n",
       "      <td id=\"T_9c896_row4_col1\" class=\"data row4 col1\" >0.9028</td>\n",
       "      <td id=\"T_9c896_row4_col2\" class=\"data row4 col2\" >0.5821</td>\n",
       "      <td id=\"T_9c896_row4_col3\" class=\"data row4 col3\" >0.2331</td>\n",
       "      <td id=\"T_9c896_row4_col4\" class=\"data row4 col4\" >0.1264</td>\n",
       "      <td id=\"T_9c896_row4_col5\" class=\"data row4 col5\" >0.1635</td>\n",
       "      <td id=\"T_9c896_row4_col6\" class=\"data row4 col6\" >0.1169</td>\n",
       "      <td id=\"T_9c896_row4_col7\" class=\"data row4 col7\" >0.1232</td>\n",
       "      <td id=\"T_9c896_row4_col8\" class=\"data row4 col8\" >6.8560</td>\n",
       "    </tr>\n",
       "  </tbody>\n",
       "</table>\n"
      ],
      "text/plain": [
       "<pandas.io.formats.style.Styler at 0x2af453672b0>"
      ]
     },
     "metadata": {},
     "output_type": "display_data"
    },
    {
     "data": {
      "text/html": [],
      "text/plain": [
       "<IPython.core.display.HTML object>"
      ]
     },
     "metadata": {},
     "output_type": "display_data"
    }
   ],
   "source": [
    "# best = compare_models(include = ['svm','lr', 'dt', 'lightgbm', 'xgboost'], fold = 5)"
   ]
  },
  {
   "cell_type": "code",
   "execution_count": 66,
   "metadata": {},
   "outputs": [],
   "source": [
    "test_data = mimic_valid_ori.drop(['Unnamed: 0', 'subject_id', 'stay_id', 'hadm_id','Annotation','classes'], axis = 1)"
   ]
  },
  {
   "cell_type": "code",
   "execution_count": 212,
   "metadata": {},
   "outputs": [
    {
     "data": {
      "text/html": [],
      "text/plain": [
       "<IPython.core.display.HTML object>"
      ]
     },
     "metadata": {},
     "output_type": "display_data"
    },
    {
     "data": {
      "text/html": [
       "<style type=\"text/css\">\n",
       "</style>\n",
       "<table id=\"T_9f106\">\n",
       "  <thead>\n",
       "    <tr>\n",
       "      <th class=\"blank level0\" >&nbsp;</th>\n",
       "      <th id=\"T_9f106_level0_col0\" class=\"col_heading level0 col0\" >Accuracy</th>\n",
       "      <th id=\"T_9f106_level0_col1\" class=\"col_heading level0 col1\" >AUC</th>\n",
       "      <th id=\"T_9f106_level0_col2\" class=\"col_heading level0 col2\" >Recall</th>\n",
       "      <th id=\"T_9f106_level0_col3\" class=\"col_heading level0 col3\" >Prec.</th>\n",
       "      <th id=\"T_9f106_level0_col4\" class=\"col_heading level0 col4\" >F1</th>\n",
       "      <th id=\"T_9f106_level0_col5\" class=\"col_heading level0 col5\" >Kappa</th>\n",
       "      <th id=\"T_9f106_level0_col6\" class=\"col_heading level0 col6\" >MCC</th>\n",
       "    </tr>\n",
       "  </thead>\n",
       "  <tbody>\n",
       "    <tr>\n",
       "      <th id=\"T_9f106_level0_row0\" class=\"row_heading level0 row0\" >Test</th>\n",
       "      <td id=\"T_9f106_row0_col0\" class=\"data row0 col0\" >0.9875</td>\n",
       "      <td id=\"T_9f106_row0_col1\" class=\"data row0 col1\" >0.9950</td>\n",
       "      <td id=\"T_9f106_row0_col2\" class=\"data row0 col2\" >0.9644</td>\n",
       "      <td id=\"T_9f106_row0_col3\" class=\"data row0 col3\" >0.9757</td>\n",
       "      <td id=\"T_9f106_row0_col4\" class=\"data row0 col4\" >0.9700</td>\n",
       "      <td id=\"T_9f106_row0_col5\" class=\"data row0 col5\" >0.9621</td>\n",
       "      <td id=\"T_9f106_row0_col6\" class=\"data row0 col6\" >0.9621</td>\n",
       "    </tr>\n",
       "  </tbody>\n",
       "</table>\n"
      ],
      "text/plain": [
       "<pandas.io.formats.style.Styler at 0x21179e03340>"
      ]
     },
     "metadata": {},
     "output_type": "display_data"
    },
    {
     "data": {
      "text/html": [],
      "text/plain": [
       "<IPython.core.display.HTML object>"
      ]
     },
     "metadata": {},
     "output_type": "display_data"
    }
   ],
   "source": [
    "lightgbm = create_model('lightgbm', cross_validation=False, learning_rate=0.1)"
   ]
  },
  {
   "cell_type": "code",
   "execution_count": 183,
   "metadata": {},
   "outputs": [
    {
     "data": {
      "text/html": [],
      "text/plain": [
       "<IPython.core.display.HTML object>"
      ]
     },
     "metadata": {},
     "output_type": "display_data"
    },
    {
     "data": {
      "image/png": "[encoded data removed]",
      "text/plain": [
       "<Figure size 800x550 with 1 Axes>"
      ]
     },
     "metadata": {},
     "output_type": "display_data"
    }
   ],
   "source": [
    "plot_model(lightgbm, plot='confusion_matrix')"
   ]
  },
  {
   "cell_type": "code",
   "execution_count": 213,
   "metadata": {},
   "outputs": [
    {
     "data": {
      "image/png": "[encoded data removed]",
      "text/plain": [
       "<Figure size 1000x1500 with 1 Axes>"
      ]
     },
     "metadata": {},
     "output_type": "display_data"
    }
   ],
   "source": [
    "import matplotlib.pyplot as plt\n",
    "import lightgbm as lgb\n",
    "lgb.plot_importance(lightgbm, importance_type=\"split\", figsize=(10,15), title=\"LightGBM Feature Importance (Split)\", max_num_features=25)\n",
    "plt.show()"
   ]
  },
  {
   "cell_type": "code",
   "execution_count": 214,
   "metadata": {},
   "outputs": [
    {
     "data": {
      "text/html": [
       "<style type=\"text/css\">\n",
       "</style>\n",
       "<table id=\"T_51771\">\n",
       "  <thead>\n",
       "    <tr>\n",
       "      <th class=\"blank level0\" >&nbsp;</th>\n",
       "      <th id=\"T_51771_level0_col0\" class=\"col_heading level0 col0\" >Model</th>\n",
       "      <th id=\"T_51771_level0_col1\" class=\"col_heading level0 col1\" >Accuracy</th>\n",
       "      <th id=\"T_51771_level0_col2\" class=\"col_heading level0 col2\" >AUC</th>\n",
       "      <th id=\"T_51771_level0_col3\" class=\"col_heading level0 col3\" >Recall</th>\n",
       "      <th id=\"T_51771_level0_col4\" class=\"col_heading level0 col4\" >Prec.</th>\n",
       "      <th id=\"T_51771_level0_col5\" class=\"col_heading level0 col5\" >F1</th>\n",
       "      <th id=\"T_51771_level0_col6\" class=\"col_heading level0 col6\" >Kappa</th>\n",
       "      <th id=\"T_51771_level0_col7\" class=\"col_heading level0 col7\" >MCC</th>\n",
       "    </tr>\n",
       "  </thead>\n",
       "  <tbody>\n",
       "    <tr>\n",
       "      <th id=\"T_51771_level0_row0\" class=\"row_heading level0 row0\" >0</th>\n",
       "      <td id=\"T_51771_row0_col0\" class=\"data row0 col0\" >Light Gradient Boosting Machine</td>\n",
       "      <td id=\"T_51771_row0_col1\" class=\"data row0 col1\" >0.9875</td>\n",
       "      <td id=\"T_51771_row0_col2\" class=\"data row0 col2\" >0.9950</td>\n",
       "      <td id=\"T_51771_row0_col3\" class=\"data row0 col3\" >0.9644</td>\n",
       "      <td id=\"T_51771_row0_col4\" class=\"data row0 col4\" >0.9757</td>\n",
       "      <td id=\"T_51771_row0_col5\" class=\"data row0 col5\" >0.9700</td>\n",
       "      <td id=\"T_51771_row0_col6\" class=\"data row0 col6\" >0.9621</td>\n",
       "      <td id=\"T_51771_row0_col7\" class=\"data row0 col7\" >0.9621</td>\n",
       "    </tr>\n",
       "  </tbody>\n",
       "</table>\n"
      ],
      "text/plain": [
       "<pandas.io.formats.style.Styler at 0x2117946cfa0>"
      ]
     },
     "metadata": {},
     "output_type": "display_data"
    }
   ],
   "source": [
    "pred_df = predict_model(lightgbm, data=test_data, raw_score=True)"
   ]
  },
  {
   "cell_type": "code",
   "execution_count": 215,
   "metadata": {},
   "outputs": [],
   "source": [
    "evaluation = mimic_valid_ori[['subject_id', 'stay_id', 'Time_since_ICU_admission', 'Annotation','classes', 'circ_next_12h']].reset_index(drop=True).copy()\n",
    "evaluation['prediction_label'] = pred_df['prediction_label'].copy()"
   ]
  },
  {
   "cell_type": "code",
   "execution_count": 216,
   "metadata": {},
   "outputs": [
    {
     "name": "stdout",
     "output_type": "stream",
     "text": [
      "Precision:  0.33847913093196114\n",
      "Recall:  0.1440389294403893\n"
     ]
    }
   ],
   "source": [
    "from sklearn.metrics import precision_score\n",
    "from sklearn.metrics import recall_score\n",
    "\n",
    "case2_recall_precision = evaluation[(evaluation['classes']==0) | (evaluation['classes']==1)]\n",
    "\n",
    "precision = precision_score(case2_recall_precision['circ_next_12h'], case2_recall_precision['prediction_label'])\n",
    "recall = recall_score(case2_recall_precision['circ_next_12h'], case2_recall_precision['prediction_label'])\n",
    " \n",
    "print('Precision: ',precision)\n",
    "print('Recall: ',recall)"
   ]
  },
  {
   "cell_type": "code",
   "execution_count": 217,
   "metadata": {},
   "outputs": [
    {
     "name": "stderr",
     "output_type": "stream",
     "text": [
      "100%|██████████| 3596/3596 [00:03<00:00, 1139.86it/s]"
     ]
    },
    {
     "name": "stdout",
     "output_type": "stream",
     "text": [
      "0.44127536231884057\n"
     ]
    },
    {
     "name": "stderr",
     "output_type": "stream",
     "text": [
      "\n"
     ]
    }
   ],
   "source": [
    "import numpy as np\n",
    "from tqdm import tqdm\n",
    "\n",
    "def filter_numeric_elements(lst):\n",
    "    return [x for x in lst if isinstance(x, (int, float))]\n",
    "\n",
    "def calculate_cap_recall(df, stid):\n",
    "    # 데이터프레임 복사본 생성\n",
    "    df_stid = df[df['stay_id'] == stid].copy()\n",
    "\n",
    "    # 연속적인 circ 이벤트 처리\n",
    "    df_stid['circ_event'] = (df_stid['Annotation'] == 'circ') & (df_stid['Annotation'].shift(1) != 'circ')\n",
    "\n",
    "    # circ 이벤트 시작 시점 찾기\n",
    "    circ_start_times = df_stid[df_stid['circ_event']]['Time_since_ICU_admission'].tolist()\n",
    "    captured_events = 0\n",
    "    drop_event = 0\n",
    "    for start_time in circ_start_times:\n",
    "        if start_time == df_stid['Time_since_ICU_admission'].values[0]:\n",
    "            drop_event += 1\n",
    "        else:\n",
    "            window_start = start_time - 12\n",
    "            previous_times = df_stid[(df_stid['Time_since_ICU_admission'] >= window_start) & (df_stid['Time_since_ICU_admission'] < start_time)]\n",
    "\n",
    "            # 이전 시간 데이터가 없는 경우도 평가에서 제외\n",
    "            if previous_times.empty:\n",
    "                drop_event += 1\n",
    "            elif any(previous_times['prediction_label'] == 1):\n",
    "                captured_events += 1\n",
    "\n",
    "    total_events = len(circ_start_times) - drop_event\n",
    "    if total_events > 0:\n",
    "        return captured_events / total_events\n",
    "    else:\n",
    "        return f'no event in stay id {stid}'  # 또는 적절한 값 반환\n",
    "\n",
    "# cap_recall 계산\n",
    "recall = []\n",
    "for stid in tqdm(evaluation.stay_id.unique()):\n",
    "    recall.append(calculate_cap_recall(evaluation, stid))\n",
    "\n",
    "# 숫자만 남기는 함수 적용\n",
    "filtered_list = filter_numeric_elements(recall)\n",
    "\n",
    "# numpy를 사용하여 평균 계산\n",
    "total_recall = np.nanmean(filtered_list)\n",
    "print(total_recall)"
   ]
  },
  {
   "cell_type": "code",
   "execution_count": 269,
   "metadata": {},
   "outputs": [
    {
     "name": "stderr",
     "output_type": "stream",
     "text": [
      "100%|██████████| 3596/3596 [00:03<00:00, 972.18it/s] "
     ]
    },
    {
     "name": "stdout",
     "output_type": "stream",
     "text": [
      "0.4547826086956522\n"
     ]
    },
    {
     "name": "stderr",
     "output_type": "stream",
     "text": [
      "\n"
     ]
    }
   ],
   "source": [
    "def calculate_precision(df, stid):\n",
    "    # 특정 stay_id에 대한 데이터만 필터링\n",
    "    df_stid = df[df['stay_id'] == stid].copy()\n",
    "\n",
    "    df_stid['circ_event'] = (df_stid['Annotation'] == 'circ') & (df_stid['Annotation'].shift(1) != 'circ')\n",
    "    circ_start_times = df_stid[df_stid['circ_event']]['Time_since_ICU_admission'].tolist()\n",
    "    \n",
    "    # True Alarms와 Total Alarms 초기화\n",
    "    true_alarms = 0\n",
    "    total_alarms = 0\n",
    "    \n",
    "    # 데이터 프레임의 첫 관측치 시간 가져오기\n",
    "    first_observation_time = df_stid['Time_since_ICU_admission'].min()\n",
    "    \n",
    "    for start_time in circ_start_times:\n",
    "        # 첫 관측치에서 circ가 시작된 경우, 이를 precision 계산에서 제외\n",
    "        if start_time == first_observation_time:\n",
    "            continue\n",
    "        \n",
    "        # 이벤트 발생 전 12시간 동안의 예측된 알람 찾기\n",
    "        window_start = max(start_time - 12, first_observation_time)  # window 시작이 첫 관측치 시간보다 이전이면 첫 관측치 시간으로 설정\n",
    "        window_end = start_time\n",
    "        alarms_in_window = df_stid[(df_stid['Time_since_ICU_admission'] >= window_start) & \n",
    "                                   (df_stid['Time_since_ICU_admission'] < window_end) & \n",
    "                                   (df_stid['prediction_label'] == 1)]\n",
    "        \n",
    "        # 전체 알람 (Total Alarms) 계산\n",
    "        total_alarms += len(alarms_in_window)\n",
    "\n",
    "        # 진정한 알람 (True Alarms) 계산\n",
    "        if df_stid.loc[df_stid['Time_since_ICU_admission'] == start_time, 'circ_next_12h'].any():\n",
    "            true_alarms += len(alarms_in_window)\n",
    "\n",
    "    # Precision 계산\n",
    "    precision = true_alarms / total_alarms if total_alarms > 0 else 0  # 알람이 전혀 없으면 precision은 0으로 설정\n",
    "    \n",
    "    return precision\n",
    "\n",
    "# Precision 계산\n",
    "precisions = []\n",
    "for stid in tqdm(evaluation['stay_id'].unique()):\n",
    "    precisions.append(calculate_precision(evaluation, stid))\n",
    "\n",
    "non_string_indices = [index for index, item in enumerate(recall) if not isinstance(item, str)]\n",
    "precisions = [precisions[index] for index in non_string_indices]\n",
    "\n",
    "mean_precision = np.mean([p for p in precisions if isinstance(p, (int, float))])\n",
    "print(mean_precision)"
   ]
  }
 ],
 "metadata": {
  "kernelspec": {
   "display_name": "Umap_python",
   "language": "python",
   "name": "python3"
  },
  "language_info": {
   "codemirror_mode": {
    "name": "ipython",
    "version": 3
   },
   "file_extension": ".py",
   "mimetype": "text/x-python",
   "name": "python",
   "nbconvert_exporter": "python",
   "pygments_lexer": "ipython3",
   "version": "3.8.18"
  }
 },
 "nbformat": 4,
 "nbformat_minor": 2
}
